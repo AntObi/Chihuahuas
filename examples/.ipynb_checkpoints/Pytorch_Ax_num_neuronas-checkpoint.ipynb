{
  "cells": [
    {
      "cell_type": "markdown",
      "metadata": {},
      "source": [
        "# Optimising GNNs on QM9 using Ax-Bayesian Optimisation"
      ]
    },
    {
      "cell_type": "code",
      "execution_count": 1,
      "metadata": {
        "id": "TkRcjuxTlOD2"
      },
      "outputs": [],
      "source": [
        "!pip install torch --quiet\n",
        "!pip install torch_geometric --quiet\n",
        "!pip install ax_platform --quiet\n",
        "!pip install botorch --quiet"
      ]
    },
    {
      "cell_type": "code",
      "execution_count": null,
      "metadata": {},
      "outputs": [],
      "source": [
        "## Imports\n",
        "import copy\n",
        "import os.path as osp\n",
        "\n",
        "import torch\n",
        "import torch.nn.functional as F\n",
        "from torch.nn import GRU, Linear, ReLU, Sequential\n",
        "\n",
        "import torch_geometric.transforms as T\n",
        "from torch_geometric.datasets import QM9\n",
        "from torch_geometric.loader import DataLoader\n",
        "from torch_geometric.nn import NNConv, Set2Set\n",
        "from torch_geometric.utils import remove_self_loops\n",
        "import plotly.graph_objects as go\n",
        "import gc\n",
        "import random\n",
        "import numpy as np\n",
        "import pandas as pd\n",
        "\n",
        "import matplotlib.pyplot as plt\n",
        "import seaborn as sns\n",
        "from os.path import join\n",
        "from pathlib import Path\n",
        "\n",
        "\n",
        "from ax.storage.json_store.save import save_experiment\n",
        "from ax.plot.trace import optimization_trace_single_method\n",
        "from ax.service.managed_loop import optimize\n",
        "from ax.service.ax_client import AxClient, ObjectiveProperties\n",
        "from sklearn.metrics import mean_absolute_error\n",
        "from sklearn.model_selection import KFold\n",
        "from rdkit import Chem  # To extract information of the molecules\n",
        "from rdkit.Chem import Draw  # To draw the molecules"
      ]
    },
    {
      "cell_type": "code",
      "execution_count": null,
      "metadata": {},
      "outputs": [],
      "source": [
        "# Seed everything\n",
        "\n",
        "def seed(seed=0):\n",
        "    random.seed(seed)\n",
        "    np.random.seed(seed)\n",
        "    torch.manual_seed(seed)\n",
        "    torch.cuda.manual_seed(seed)\n",
        "    torch.cuda.manual_seed_all(seed)\n",
        "    torch.backends.cudnn.deterministic = True\n",
        "    torch.backends.cudnn.benchmark = False\n",
        "\n",
        "seed(0)"
      ]
    },
    {
      "cell_type": "code",
      "execution_count": 2,
      "metadata": {
        "id": "SH31aJazlA65"
      },
      "outputs": [],
      "source": [
        "# Set the path for QM9\n",
        "\n",
        "qm9_dir = \"qm9_data\"\n",
        "Path(qm9_dir).mkdir(parents=True, exist_ok=True)\n",
        "\n",
        "\n",
        "target = 7 # Internal energy\n",
        "dim = 64"
      ]
    },
    {
      "cell_type": "code",
      "execution_count": 3,
      "metadata": {},
      "outputs": [
        {
          "name": "stderr",
          "output_type": "stream",
          "text": [
            "c:\\Users\\AntObi\\anaconda3\\envs\\BO_chem\\lib\\site-packages\\torch_geometric\\data\\in_memory_dataset.py:300: UserWarning: It is not recommended to directly access the internal storage format `data` of an 'InMemoryDataset'. The given 'InMemoryDataset' only references a subset of examples of the full dataset, but 'data' will contain information of the full dataset. If you are absolutely certain what you are doing, access the internal storage via `InMemoryDataset._data` instead to suppress this warning. Alternatively, you can access stacked individual attributes of every graph via `dataset.{attr_name}`.\n",
            "  warnings.warn(msg)\n"
          ]
        }
      ],
      "source": [
        "class MyTransform:\n",
        "    \"\"\"\"Selects the target variable\"\"\"\n",
        "    def __call__(self, data):\n",
        "        data = copy.copy(data)\n",
        "        data.y = data.y[:, target]  # Specify target.\n",
        "        return data\n",
        "\n",
        "\n",
        "class Complete:\n",
        "    \"\"\"Makes a fully connected graph\"\"\"\n",
        "    def __call__(self, data):\n",
        "        data = copy.copy(data)\n",
        "        device = data.edge_index.device\n",
        "\n",
        "        row = torch.arange(data.num_nodes, dtype=torch.long, device=device)\n",
        "        col = torch.arange(data.num_nodes, dtype=torch.long, device=device)\n",
        "\n",
        "        row = row.view(-1, 1).repeat(1, data.num_nodes).view(-1)\n",
        "        col = col.repeat(data.num_nodes)\n",
        "        edge_index = torch.stack([row, col], dim=0)\n",
        "\n",
        "        edge_attr = None\n",
        "        if data.edge_attr is not None:\n",
        "            idx = data.edge_index[0] * data.num_nodes + data.edge_index[1]\n",
        "            size = list(data.edge_attr.size())\n",
        "            size[0] = data.num_nodes * data.num_nodes\n",
        "            edge_attr = data.edge_attr.new_zeros(size)\n",
        "            edge_attr[idx] = data.edge_attr\n",
        "\n",
        "        edge_index, edge_attr = remove_self_loops(edge_index, edge_attr)\n",
        "        data.edge_attr = edge_attr\n",
        "        data.edge_index = edge_index\n",
        "\n",
        "        return data\n",
        "\n",
        "\n",
        "\n",
        "transform = T.Compose([MyTransform(), Complete(), T.Distance(norm=False)])\n",
        "# Originalmente: Carga y preparación del dataset\n",
        "dataset = QM9(qm9_dir, transform=transform).shuffle()\n",
        "\n",
        "# Modificación para usar un subconjunto más pequeño\n",
        "# Por ejemplo, usar solo los primeros 10,000 datos del dataset\n",
        "subset_size = 1000  # Define el tamaño del subconjunto\n",
        "subset_indices = torch.randperm(len(dataset))[:subset_size]  # Selecciona índices al azar\n",
        "dataset = dataset[subset_indices]\n",
        "\n",
        "# Procede como antes\n",
        "mean = dataset.data.y.mean(dim=0, keepdim=True)\n",
        "std = dataset.data.y.std(dim=0, keepdim=True)\n",
        "dataset.data.y = (dataset.data.y - mean) / std\n",
        "mean, std = mean[:, target].item(), std[:, target].item()\n",
        "\n",
        "# Split datasets teniendo en cuenta el nuevo tamaño\n",
        "test_dataset = dataset[:int(subset_size*0.2)]\n",
        "val_dataset = dataset[int(subset_size*0.2):int(subset_size*0.4)]\n",
        "train_dataset = dataset[int(subset_size*0.4):]\n",
        "\n",
        "test_loader = DataLoader(test_dataset, batch_size=128, shuffle=False)\n",
        "val_loader = DataLoader(val_dataset, batch_size=128, shuffle=False)\n",
        "train_loader = DataLoader(train_dataset, batch_size=128, shuffle=True)\n",
        "\n",
        "#________________________________________________________________________________________________\n",
        "#RED NEURONAL ARQUITECTURA\n",
        "\n",
        "class Net(torch.nn.Module):\n",
        "    def __init__(self,dim=64, num_neurons=128):\n",
        "        super().__init__()\n",
        "        self.lin0 = torch.nn.Linear(dataset.num_features, dim)\n",
        "\n",
        "        nn = Sequential(Linear(5, num_neurons), ReLU(), Linear(num_neurons, dim * dim))\n",
        "        self.conv = NNConv(dim, dim, nn, aggr='mean')\n",
        "        self.gru = GRU(dim, dim)\n",
        "\n",
        "        self.set2set = Set2Set(dim, processing_steps=3)\n",
        "        self.lin1 = torch.nn.Linear(2 * dim, dim)\n",
        "        self.lin2 = torch.nn.Linear(dim, 1)\n",
        "#________________________________________________________________________________________________\n",
        "#PROPAGACIÓN DE INFORMACIÓN\n",
        "    def forward(self, data):\n",
        "        out = F.relu(self.lin0(data.x))\n",
        "        h = out.unsqueeze(0)\n",
        "\n",
        "        for i in range(3):\n",
        "            m = F.relu(self.conv(out, data.edge_index, data.edge_attr))\n",
        "            out, h = self.gru(m.unsqueeze(0), h)\n",
        "            out = out.squeeze(0)\n",
        "\n",
        "        out = self.set2set(out, data.batch)\n",
        "        out = F.relu(self.lin1(out))\n",
        "        out = self.lin2(out)\n",
        "        return out.view(-1)\n",
        "#________________________________________________________________________________________________\n",
        "\n",
        "device = torch.device('cuda' if torch.cuda.is_available() else 'cpu')\n"
      ]
    },
    {
      "cell_type": "code",
      "execution_count": 4,
      "metadata": {
        "id": "g8BlcKBZ7DA7"
      },
      "outputs": [],
      "source": [
        "# Helper functions for training\n",
        "import time\n",
        "\n",
        "device = torch.device('cuda' if torch.cuda.is_available() else 'cpu')\n",
        "\n",
        "\n",
        "def train(model, train_loader, optimizer, device):\n",
        "    \"\"\"Train a model\n",
        "    \n",
        "    Args:\n",
        "        model (torch.nn.Module): Model to train\n",
        "        train_loader (DataLoader): Training data loader\n",
        "        optimizer (torch.optim.Optimizer): Optimizer to use\n",
        "        device (torch.device): Device to use\n",
        "\n",
        "    Returns:\n",
        "        float: Average training loss\n",
        "    \"\"\"\n",
        "    model.train()\n",
        "    loss_all = 0\n",
        "\n",
        "    for data in train_loader:\n",
        "        data = data.to(device)\n",
        "        optimizer.zero_grad()\n",
        "        y_pred = model(data)\n",
        "        loss = F.mse_loss(y_pred, data.y)\n",
        "        loss.backward()\n",
        "        loss_all += loss.item() * data.num_graphs\n",
        "        optimizer.step()\n",
        "    return loss_all / len(train_loader.dataset)\n",
        "\n",
        "\n",
        "def eval(model, loader, device):\n",
        "    model.eval()\n",
        "    error = 0\n",
        "\n",
        "    for data in loader:\n",
        "        data = data.to(device)\n",
        "        with torch.no_grad():\n",
        "            y_pred = model(data)\n",
        "            # Mean Absolute Error using std (computed when preparing data)\n",
        "            error += (y_pred * std - data.y * std).abs().sum().item()\n",
        "    return error / len(loader.dataset)\n",
        "\n",
        "def run_experiment(model, model_name, train_loader, val_loader, test_loader, n_epochs=100):\n",
        "    \n",
        "    print(f\"Running experiment for {model_name}, training on {len(train_loader.dataset)} samples for {n_epochs} epochs.\")\n",
        "    \n",
        "    device = torch.device('cuda' if torch.cuda.is_available() else 'cpu')\n",
        "\n",
        "    print(\"\\nModel architecture:\")\n",
        "    print(model)\n",
        "    total_param = 0\n",
        "    for param in model.parameters():\n",
        "        total_param += np.prod(list(param.data.size()))\n",
        "    print(f'Total parameters: {total_param}')\n",
        "    model = model.to(device)\n",
        "\n",
        "    # Adam optimizer with LR 1e-3\n",
        "    optimizer = torch.optim.Adam(model.parameters(), lr=0.001)\n",
        "\n",
        "    # LR scheduler which decays LR when validation metric doesn't improve\n",
        "    scheduler = torch.optim.lr_scheduler.ReduceLROnPlateau(\n",
        "        optimizer, mode='min', factor=0.9, patience=5, min_lr=0.00001)\n",
        "    \n",
        "    print(\"\\nStart training:\")\n",
        "    best_val_error = None\n",
        "    perf_per_epoch = [] # Track Test/Val MAE vs. epoch (for plotting)\n",
        "    t = time.time()\n",
        "    for epoch in range(1, n_epochs+1):\n",
        "        # Call LR scheduler at start of each epoch\n",
        "        lr = scheduler.optimizer.param_groups[0]['lr']\n",
        "\n",
        "        # Train model for one epoch, return avg. training loss\n",
        "        loss = train(model, train_loader, optimizer, device)\n",
        "        \n",
        "        # Evaluate model on validation set\n",
        "        val_error = eval(model, val_loader, device)\n",
        "        \n",
        "        if best_val_error is None or val_error <= best_val_error:\n",
        "            # Evaluate model on test set if validation metric improves\n",
        "            test_error = eval(model, test_loader, device)\n",
        "            best_val_error = val_error\n",
        "\n",
        "        if epoch % 10 == 0:\n",
        "            # Print and track stats every 10 epochs\n",
        "            print(f'Epoch: {epoch:03d}, LR: {lr:5f}, Loss: {loss:.7f}, '\n",
        "                  f'Val MAE: {val_error:.7f}, Test MAE: {test_error:.7f}')\n",
        "        \n",
        "        scheduler.step(val_error)\n",
        "        perf_per_epoch.append((test_error, val_error, epoch, model_name))\n",
        "    \n",
        "    t = time.time() - t\n",
        "    train_time = t/60\n",
        "    print(f\"\\nDone! Training took {train_time:.2f} mins. Best validation MAE: {best_val_error:.7f}, corresponding test MAE: {test_error:.7f}.\")\n",
        "    \n",
        "    return best_val_error, test_error, train_time, perf_per_epoch\n"
      ]
    },
    {
      "cell_type": "code",
      "execution_count": 5,
      "metadata": {},
      "outputs": [],
      "source": [
        "# For storing experimental results over the course of the practical\n",
        "RESULTS = {}\n",
        "DF_RESULTS = pd.DataFrame(columns=[\"Test MAE\", \"Val MAE\", \"Epoch\", \"Model\"])"
      ]
    },
    {
      "cell_type": "markdown",
      "metadata": {},
      "source": [
        "Below we will train the baseline model"
      ]
    },
    {
      "cell_type": "code",
      "execution_count": 6,
      "metadata": {},
      "outputs": [
        {
          "name": "stdout",
          "output_type": "stream",
          "text": [
            "Running experiment for Net, training on 600 samples for 20 epochs.\n",
            "\n",
            "Model architecture:\n",
            "Net(\n",
            "  (lin0): Linear(in_features=11, out_features=64, bias=True)\n",
            "  (conv): NNConv(64, 64, aggr=mean, nn=Sequential(\n",
            "    (0): Linear(in_features=5, out_features=128, bias=True)\n",
            "    (1): ReLU()\n",
            "    (2): Linear(in_features=128, out_features=4096, bias=True)\n",
            "  ))\n",
            "  (gru): GRU(64, 64)\n",
            "  (set2set): Set2Set(64, 128)\n",
            "  (lin1): Linear(in_features=128, out_features=64, bias=True)\n",
            "  (lin2): Linear(in_features=64, out_features=1, bias=True)\n",
            ")\n",
            "Total parameters: 617025\n",
            "\n",
            "Start training:\n",
            "Epoch: 010, LR: 0.001000, Loss: 0.7244506, Val MAE: 655.1737109, Test MAE: 711.4793359\n",
            "Epoch: 020, LR: 0.001000, Loss: 0.3978573, Val MAE: 504.9608594, Test MAE: 458.0982813\n",
            "\n",
            "Done! Training took 2.00 mins. Best validation MAE: 452.4456836, corresponding test MAE: 458.0982813.\n"
          ]
        },
        {
          "name": "stderr",
          "output_type": "stream",
          "text": [
            "C:\\Users\\AntObi\\AppData\\Local\\Temp\\ipykernel_44644\\603147491.py:17: FutureWarning: The behavior of DataFrame concatenation with empty or all-NA entries is deprecated. In a future version, this will no longer exclude empty or all-NA columns when determining the result dtypes. To retain the old behavior, exclude the relevant entries before the concat operation.\n",
            "  DF_RESULTS = pd.concat([DF_RESULTS,df_temp], ignore_index=True)\n"
          ]
        }
      ],
      "source": [
        "# Train the model\n",
        "\n",
        "num_epochs = 20\n",
        "model = Net(dim=dim, num_neurons=128)\n",
        "model_name=type(model).__name__\n",
        "\n",
        "best_val_error, test_error, train_time, perf_per_epoch = run_experiment(\n",
        "    model, \n",
        "    model_name, \n",
        "    train_loader,\n",
        "    val_loader, \n",
        "    test_loader,\n",
        "    n_epochs=num_epochs\n",
        ")\n",
        "RESULTS[model_name] = (best_val_error, test_error, train_time)\n",
        "df_temp = pd.DataFrame(perf_per_epoch, columns=[\"Test MAE\", \"Val MAE\", \"Epoch\", \"Model\"])\n",
        "DF_RESULTS = pd.concat([DF_RESULTS,df_temp], ignore_index=True)"
      ]
    },
    {
      "cell_type": "code",
      "execution_count": 7,
      "metadata": {},
      "outputs": [
        {
          "data": {
            "text/html": [
              "<div>\n",
              "<style scoped>\n",
              "    .dataframe tbody tr th:only-of-type {\n",
              "        vertical-align: middle;\n",
              "    }\n",
              "\n",
              "    .dataframe tbody tr th {\n",
              "        vertical-align: top;\n",
              "    }\n",
              "\n",
              "    .dataframe thead th {\n",
              "        text-align: right;\n",
              "    }\n",
              "</style>\n",
              "<table border=\"1\" class=\"dataframe\">\n",
              "  <thead>\n",
              "    <tr style=\"text-align: right;\">\n",
              "      <th></th>\n",
              "      <th>Test MAE</th>\n",
              "      <th>Val MAE</th>\n",
              "      <th>Epoch</th>\n",
              "      <th>Model</th>\n",
              "    </tr>\n",
              "  </thead>\n",
              "  <tbody>\n",
              "    <tr>\n",
              "      <th>0</th>\n",
              "      <td>859.589316</td>\n",
              "      <td>807.810273</td>\n",
              "      <td>1</td>\n",
              "      <td>Net</td>\n",
              "    </tr>\n",
              "    <tr>\n",
              "      <th>1</th>\n",
              "      <td>860.035625</td>\n",
              "      <td>800.001582</td>\n",
              "      <td>2</td>\n",
              "      <td>Net</td>\n",
              "    </tr>\n",
              "    <tr>\n",
              "      <th>2</th>\n",
              "      <td>831.038281</td>\n",
              "      <td>794.388418</td>\n",
              "      <td>3</td>\n",
              "      <td>Net</td>\n",
              "    </tr>\n",
              "    <tr>\n",
              "      <th>3</th>\n",
              "      <td>763.292070</td>\n",
              "      <td>726.041836</td>\n",
              "      <td>4</td>\n",
              "      <td>Net</td>\n",
              "    </tr>\n",
              "    <tr>\n",
              "      <th>4</th>\n",
              "      <td>763.292070</td>\n",
              "      <td>767.920059</td>\n",
              "      <td>5</td>\n",
              "      <td>Net</td>\n",
              "    </tr>\n",
              "    <tr>\n",
              "      <th>5</th>\n",
              "      <td>691.422598</td>\n",
              "      <td>691.698008</td>\n",
              "      <td>6</td>\n",
              "      <td>Net</td>\n",
              "    </tr>\n",
              "    <tr>\n",
              "      <th>6</th>\n",
              "      <td>691.422598</td>\n",
              "      <td>758.756836</td>\n",
              "      <td>7</td>\n",
              "      <td>Net</td>\n",
              "    </tr>\n",
              "    <tr>\n",
              "      <th>7</th>\n",
              "      <td>691.422598</td>\n",
              "      <td>749.105234</td>\n",
              "      <td>8</td>\n",
              "      <td>Net</td>\n",
              "    </tr>\n",
              "    <tr>\n",
              "      <th>8</th>\n",
              "      <td>699.813398</td>\n",
              "      <td>688.416094</td>\n",
              "      <td>9</td>\n",
              "      <td>Net</td>\n",
              "    </tr>\n",
              "    <tr>\n",
              "      <th>9</th>\n",
              "      <td>711.479336</td>\n",
              "      <td>655.173711</td>\n",
              "      <td>10</td>\n",
              "      <td>Net</td>\n",
              "    </tr>\n",
              "    <tr>\n",
              "      <th>10</th>\n",
              "      <td>640.850410</td>\n",
              "      <td>609.766875</td>\n",
              "      <td>11</td>\n",
              "      <td>Net</td>\n",
              "    </tr>\n",
              "    <tr>\n",
              "      <th>11</th>\n",
              "      <td>640.850410</td>\n",
              "      <td>693.721172</td>\n",
              "      <td>12</td>\n",
              "      <td>Net</td>\n",
              "    </tr>\n",
              "    <tr>\n",
              "      <th>12</th>\n",
              "      <td>632.725469</td>\n",
              "      <td>595.894648</td>\n",
              "      <td>13</td>\n",
              "      <td>Net</td>\n",
              "    </tr>\n",
              "    <tr>\n",
              "      <th>13</th>\n",
              "      <td>594.837930</td>\n",
              "      <td>582.251465</td>\n",
              "      <td>14</td>\n",
              "      <td>Net</td>\n",
              "    </tr>\n",
              "    <tr>\n",
              "      <th>14</th>\n",
              "      <td>584.789023</td>\n",
              "      <td>562.890332</td>\n",
              "      <td>15</td>\n",
              "      <td>Net</td>\n",
              "    </tr>\n",
              "    <tr>\n",
              "      <th>15</th>\n",
              "      <td>561.122930</td>\n",
              "      <td>542.492617</td>\n",
              "      <td>16</td>\n",
              "      <td>Net</td>\n",
              "    </tr>\n",
              "    <tr>\n",
              "      <th>16</th>\n",
              "      <td>563.381172</td>\n",
              "      <td>533.204648</td>\n",
              "      <td>17</td>\n",
              "      <td>Net</td>\n",
              "    </tr>\n",
              "    <tr>\n",
              "      <th>17</th>\n",
              "      <td>529.598203</td>\n",
              "      <td>502.282656</td>\n",
              "      <td>18</td>\n",
              "      <td>Net</td>\n",
              "    </tr>\n",
              "    <tr>\n",
              "      <th>18</th>\n",
              "      <td>458.098281</td>\n",
              "      <td>452.445684</td>\n",
              "      <td>19</td>\n",
              "      <td>Net</td>\n",
              "    </tr>\n",
              "    <tr>\n",
              "      <th>19</th>\n",
              "      <td>458.098281</td>\n",
              "      <td>504.960859</td>\n",
              "      <td>20</td>\n",
              "      <td>Net</td>\n",
              "    </tr>\n",
              "  </tbody>\n",
              "</table>\n",
              "</div>"
            ],
            "text/plain": [
              "      Test MAE     Val MAE Epoch Model\n",
              "0   859.589316  807.810273     1   Net\n",
              "1   860.035625  800.001582     2   Net\n",
              "2   831.038281  794.388418     3   Net\n",
              "3   763.292070  726.041836     4   Net\n",
              "4   763.292070  767.920059     5   Net\n",
              "5   691.422598  691.698008     6   Net\n",
              "6   691.422598  758.756836     7   Net\n",
              "7   691.422598  749.105234     8   Net\n",
              "8   699.813398  688.416094     9   Net\n",
              "9   711.479336  655.173711    10   Net\n",
              "10  640.850410  609.766875    11   Net\n",
              "11  640.850410  693.721172    12   Net\n",
              "12  632.725469  595.894648    13   Net\n",
              "13  594.837930  582.251465    14   Net\n",
              "14  584.789023  562.890332    15   Net\n",
              "15  561.122930  542.492617    16   Net\n",
              "16  563.381172  533.204648    17   Net\n",
              "17  529.598203  502.282656    18   Net\n",
              "18  458.098281  452.445684    19   Net\n",
              "19  458.098281  504.960859    20   Net"
            ]
          },
          "execution_count": 7,
          "metadata": {},
          "output_type": "execute_result"
        }
      ],
      "source": [
        "DF_RESULTS"
      ]
    },
    {
      "cell_type": "code",
      "execution_count": 8,
      "metadata": {},
      "outputs": [
        {
          "data": {
            "text/plain": [
              "<Axes: xlabel='Epoch', ylabel='Val MAE'>"
            ]
          },
          "execution_count": 8,
          "metadata": {},
          "output_type": "execute_result"
        },
        {
          "data": {
            "image/png": "[encoded data removed]",
            "text/plain": [
              "<Figure size 640x480 with 1 Axes>"
            ]
          },
          "metadata": {},
          "output_type": "display_data"
        }
      ],
      "source": [
        "sns.lineplot(x=\"Epoch\", y=\"Val MAE\", hue=\"Model\", data=DF_RESULTS)"
      ]
    },
    {
      "cell_type": "markdown",
      "metadata": {},
      "source": [
        "## Ax Hyperparameter BO"
      ]
    },
    {
      "cell_type": "markdown",
      "metadata": {},
      "source": [
        "The example below focuses on trying to optimise the number of neurons in the network."
      ]
    },
    {
      "cell_type": "code",
      "execution_count": 9,
      "metadata": {},
      "outputs": [
        {
          "name": "stderr",
          "output_type": "stream",
          "text": [
            "[INFO 03-28 15:18:13] ax.service.utils.instantiation: Created search space: SearchSpace(parameters=[RangeParameter(name='num_neurons', parameter_type=INT, range=[32, 256])], parameter_constraints=[]).\n",
            "[INFO 03-28 15:18:13] ax.modelbridge.dispatch_utils: Using Models.BOTORCH_MODULAR since there is at least one ordered parameter and there are no unordered categorical parameters.\n",
            "[INFO 03-28 15:18:13] ax.modelbridge.dispatch_utils: Calculating the number of remaining initialization trials based on num_initialization_trials=None max_initialization_trials=None num_tunable_parameters=1 num_trials=None use_batch_trials=False\n",
            "[INFO 03-28 15:18:13] ax.modelbridge.dispatch_utils: calculated num_initialization_trials=5\n",
            "[INFO 03-28 15:18:13] ax.modelbridge.dispatch_utils: num_completed_initialization_trials=0 num_remaining_initialization_trials=5\n",
            "[INFO 03-28 15:18:13] ax.modelbridge.dispatch_utils: `verbose`, `disable_progbar`, and `jit_compile` are not yet supported when using `choose_generation_strategy` with ModularBoTorchModel, dropping these arguments.\n",
            "[INFO 03-28 15:18:13] ax.modelbridge.dispatch_utils: Using Bayesian Optimization generation strategy: GenerationStrategy(name='Sobol+BoTorch', steps=[Sobol for 5 trials, BoTorch for subsequent trials]). Iterations after 5 will take longer to generate due to model-fitting.\n",
            "[INFO 03-28 15:18:13] ax.service.managed_loop: Started full optimization with 3 steps.\n",
            "[INFO 03-28 15:18:13] ax.service.managed_loop: Running optimization trial 1...\n"
          ]
        },
        {
          "name": "stdout",
          "output_type": "stream",
          "text": [
            "Running experiment for Net, training on 600 samples for 20 epochs.\n",
            "\n",
            "Model architecture:\n",
            "Net(\n",
            "  (lin0): Linear(in_features=11, out_features=64, bias=True)\n",
            "  (conv): NNConv(64, 64, aggr=mean, nn=Sequential(\n",
            "    (0): Linear(in_features=5, out_features=164, bias=True)\n",
            "    (1): ReLU()\n",
            "    (2): Linear(in_features=164, out_features=4096, bias=True)\n",
            "  ))\n",
            "  (gru): GRU(64, 64)\n",
            "  (set2set): Set2Set(64, 128)\n",
            "  (lin1): Linear(in_features=128, out_features=64, bias=True)\n",
            "  (lin2): Linear(in_features=64, out_features=1, bias=True)\n",
            ")\n",
            "Total parameters: 764697\n",
            "\n",
            "Start training:\n",
            "Epoch: 010, LR: 0.001000, Loss: 0.4689528, Val MAE: 599.4375977, Test MAE: 547.7867969\n",
            "Epoch: 020, LR: 0.001000, Loss: 0.2972341, Val MAE: 406.1959961, Test MAE: 396.4939355\n",
            "\n",
            "Done! Training took 2.08 mins. Best validation MAE: 406.1959961, corresponding test MAE: 396.4939355.\n"
          ]
        },
        {
          "name": "stderr",
          "output_type": "stream",
          "text": [
            "[INFO 03-28 15:20:18] ax.service.managed_loop: Running optimization trial 2...\n"
          ]
        },
        {
          "name": "stdout",
          "output_type": "stream",
          "text": [
            "Running experiment for Net, training on 600 samples for 20 epochs.\n",
            "\n",
            "Model architecture:\n",
            "Net(\n",
            "  (lin0): Linear(in_features=11, out_features=64, bias=True)\n",
            "  (conv): NNConv(64, 64, aggr=mean, nn=Sequential(\n",
            "    (0): Linear(in_features=5, out_features=78, bias=True)\n",
            "    (1): ReLU()\n",
            "    (2): Linear(in_features=78, out_features=4096, bias=True)\n",
            "  ))\n",
            "  (gru): GRU(64, 64)\n",
            "  (set2set): Set2Set(64, 128)\n",
            "  (lin1): Linear(in_features=128, out_features=64, bias=True)\n",
            "  (lin2): Linear(in_features=64, out_features=1, bias=True)\n",
            ")\n",
            "Total parameters: 411925\n",
            "\n",
            "Start training:\n",
            "Epoch: 010, LR: 0.001000, Loss: 0.4412438, Val MAE: 495.5994727, Test MAE: 519.9556055\n",
            "Epoch: 020, LR: 0.001000, Loss: 0.2666579, Val MAE: 383.2060742, Test MAE: 377.0720605\n",
            "\n",
            "Done! Training took 1.69 mins. Best validation MAE: 378.5245508, corresponding test MAE: 377.0720605.\n"
          ]
        },
        {
          "name": "stderr",
          "output_type": "stream",
          "text": [
            "[INFO 03-28 15:22:00] ax.service.managed_loop: Running optimization trial 3...\n"
          ]
        },
        {
          "name": "stdout",
          "output_type": "stream",
          "text": [
            "Running experiment for Net, training on 600 samples for 20 epochs.\n",
            "\n",
            "Model architecture:\n",
            "Net(\n",
            "  (lin0): Linear(in_features=11, out_features=64, bias=True)\n",
            "  (conv): NNConv(64, 64, aggr=mean, nn=Sequential(\n",
            "    (0): Linear(in_features=5, out_features=181, bias=True)\n",
            "    (1): ReLU()\n",
            "    (2): Linear(in_features=181, out_features=4096, bias=True)\n",
            "  ))\n",
            "  (gru): GRU(64, 64)\n",
            "  (set2set): Set2Set(64, 128)\n",
            "  (lin1): Linear(in_features=128, out_features=64, bias=True)\n",
            "  (lin2): Linear(in_features=64, out_features=1, bias=True)\n",
            ")\n",
            "Total parameters: 834431\n",
            "\n",
            "Start training:\n",
            "Epoch: 010, LR: 0.001000, Loss: 0.5549095, Val MAE: 709.5707031, Test MAE: 648.9721289\n",
            "Epoch: 020, LR: 0.001000, Loss: 0.3398796, Val MAE: 426.9989160, Test MAE: 428.0541016\n",
            "\n",
            "Done! Training took 2.23 mins. Best validation MAE: 426.9989160, corresponding test MAE: 428.0541016.\n",
            "{'num_neurons': 78}\n",
            "({'val_error': 378.52455078125}, {'val_error': {'val_error': 0.0}})\n"
          ]
        }
      ],
      "source": [
        "parameters = [\n",
        "    #{\"name\":\"dim\", \"type\":\"range\", \"bounds\":[32, 256], \"value_type\":\"int\", \"log_scale\":False},\n",
        "    {\"name\":\"num_neurons\", \"type\":\"range\", \"bounds\":[32, 256], \"value_type\":\"int\", \"log_scale\":False},\n",
        "]\n",
        "\n",
        "def train_evaluate(parameterization):\n",
        "    #dim = parameterization.get(\"dim\")\n",
        "    num_neurons = parameterization.get(\"num_neurons\")\n",
        "    model = Net(\n",
        "        dim=dim,\n",
        "        num_neurons=num_neurons\n",
        "        )\n",
        "    model_name=type(model).__name__\n",
        "    \n",
        "    best_val_error, test_error, train_time, perf_per_epoch = run_experiment(\n",
        "        model, \n",
        "        model_name, \n",
        "        train_loader,\n",
        "        val_loader, \n",
        "        test_loader,\n",
        "        n_epochs=num_epochs\n",
        "    )\n",
        "    del model\n",
        "    gc.collect()\n",
        "    torch.cuda.empty_cache()\n",
        "    return {\"val_error\": (best_val_error, 0.0)}\n",
        "\n",
        "# define the objective with the name \"mae\" (mean absolute error) and minimize=True\n",
        "#objectives = {\"val_error\": ObjectiveProperties(minimize=True)}  # IMPLEMENT\n",
        "\n",
        "# Instantiate the AxClient class with `random_seed=42` for reproducibility\n",
        "#ax_client = AxClient(random_seed=42)\n",
        "#ax_client.create_experiment(parameters=parameters, objectives=objectives)\n",
        "\n",
        "\n",
        "best_parameters, values, experiment, model = optimize(\n",
        "    parameters=parameters,\n",
        "    evaluation_function=train_evaluate,\n",
        "    objective_name='val_error',\n",
        "    total_trials=3,\n",
        "    minimize=True\n",
        ")\n",
        "\n",
        "print(best_parameters)\n",
        "print(values)"
      ]
    },
    {
      "cell_type": "code",
      "execution_count": 12,
      "metadata": {},
      "outputs": [],
      "source": [
        "trials = experiment.trials.values()\n",
        "\n",
        "best_objectives = np.array([[trial.objective_mean for trial in trials]])\n",
        "best_objective_plot = optimization_trace_single_method(\n",
        "    y=best_objectives,\n",
        "    optimization_direction=\"minimize\",\n",
        "    ylabel=\"MAE\",\n",
        "    #hover_labels=parameter_strs,\n",
        "    plot_trial_points=True,\n",
        ")\n",
        "data = best_objective_plot[0][\"data\"]\n",
        "layout = best_objective_plot[0][\"layout\"]\n"
      ]
    },
    {
      "cell_type": "code",
      "execution_count": 15,
      "metadata": {},
      "outputs": [
        {
          "data": {
            "application/vnd.plotly.v1+json": {
              "config": {
                "plotlyServerURL": "https://plot.ly"
              },
              "data": [
                {
                  "error_y": {
                    "array": [
                      0,
                      0,
                      0
                    ],
                    "type": "data",
                    "visible": true
                  },
                  "marker": {
                    "color": "rgba(190,186,218,1)"
                  },
                  "mode": "markers",
                  "name": "objective value",
                  "type": "scatter",
                  "x": [
                    1,
                    2,
                    3
                  ],
                  "y": [
                    406.19599609375,
                    378.52455078125,
                    426.998916015625
                  ]
                },
                {
                  "hoverinfo": "none",
                  "legendgroup": "",
                  "line": {
                    "width": 0
                  },
                  "mode": "lines",
                  "showlegend": false,
                  "type": "scatter",
                  "x": [
                    1,
                    2,
                    3
                  ],
                  "y": [
                    406.19599609375,
                    378.52455078125,
                    378.52455078125
                  ]
                },
                {
                  "fill": "tonexty",
                  "fillcolor": "rgba(128,177,211,0.3)",
                  "legendgroup": "best objective so far",
                  "line": {
                    "color": "rgba(128,177,211,1)"
                  },
                  "mode": "lines",
                  "name": "best objective so far",
                  "type": "scatter",
                  "x": [
                    1,
                    2,
                    3
                  ],
                  "y": [
                    406.19599609375,
                    378.52455078125,
                    378.52455078125
                  ]
                },
                {
                  "fill": "tonexty",
                  "fillcolor": "rgba(128,177,211,0.3)",
                  "hoverinfo": "none",
                  "legendgroup": "",
                  "line": {
                    "width": 0
                  },
                  "mode": "lines",
                  "showlegend": false,
                  "type": "scatter",
                  "x": [
                    1,
                    2,
                    3
                  ],
                  "y": [
                    406.19599609375,
                    378.52455078125,
                    378.52455078125
                  ]
                }
              ],
              "layout": {
                "showlegend": true,
                "template": {
                  "data": {
                    "bar": [
                      {
                        "error_x": {
                          "color": "#2a3f5f"
                        },
                        "error_y": {
                          "color": "#2a3f5f"
                        },
                        "marker": {
                          "line": {
                            "color": "#E5ECF6",
                            "width": 0.5
                          },
                          "pattern": {
                            "fillmode": "overlay",
                            "size": 10,
                            "solidity": 0.2
                          }
                        },
                        "type": "bar"
                      }
                    ],
                    "barpolar": [
                      {
                        "marker": {
                          "line": {
                            "color": "#E5ECF6",
                            "width": 0.5
                          },
                          "pattern": {
                            "fillmode": "overlay",
                            "size": 10,
                            "solidity": 0.2
                          }
                        },
                        "type": "barpolar"
                      }
                    ],
                    "carpet": [
                      {
                        "aaxis": {
                          "endlinecolor": "#2a3f5f",
                          "gridcolor": "white",
                          "linecolor": "white",
                          "minorgridcolor": "white",
                          "startlinecolor": "#2a3f5f"
                        },
                        "baxis": {
                          "endlinecolor": "#2a3f5f",
                          "gridcolor": "white",
                          "linecolor": "white",
                          "minorgridcolor": "white",
                          "startlinecolor": "#2a3f5f"
                        },
                        "type": "carpet"
                      }
                    ],
                    "choropleth": [
                      {
                        "colorbar": {
                          "outlinewidth": 0,
                          "ticks": ""
                        },
                        "type": "choropleth"
                      }
                    ],
                    "contour": [
                      {
                        "colorbar": {
                          "outlinewidth": 0,
                          "ticks": ""
                        },
                        "colorscale": [
                          [
                            0,
                            "#0d0887"
                          ],
                          [
                            0.1111111111111111,
                            "#46039f"
                          ],
                          [
                            0.2222222222222222,
                            "#7201a8"
                          ],
                          [
                            0.3333333333333333,
                            "#9c179e"
                          ],
                          [
                            0.4444444444444444,
                            "#bd3786"
                          ],
                          [
                            0.5555555555555556,
                            "#d8576b"
                          ],
                          [
                            0.6666666666666666,
                            "#ed7953"
                          ],
                          [
                            0.7777777777777778,
                            "#fb9f3a"
                          ],
                          [
                            0.8888888888888888,
                            "#fdca26"
                          ],
                          [
                            1,
                            "#f0f921"
                          ]
                        ],
                        "type": "contour"
                      }
                    ],
                    "contourcarpet": [
                      {
                        "colorbar": {
                          "outlinewidth": 0,
                          "ticks": ""
                        },
                        "type": "contourcarpet"
                      }
                    ],
                    "heatmap": [
                      {
                        "colorbar": {
                          "outlinewidth": 0,
                          "ticks": ""
                        },
                        "colorscale": [
                          [
                            0,
                            "#0d0887"
                          ],
                          [
                            0.1111111111111111,
                            "#46039f"
                          ],
                          [
                            0.2222222222222222,
                            "#7201a8"
                          ],
                          [
                            0.3333333333333333,
                            "#9c179e"
                          ],
                          [
                            0.4444444444444444,
                            "#bd3786"
                          ],
                          [
                            0.5555555555555556,
                            "#d8576b"
                          ],
                          [
                            0.6666666666666666,
                            "#ed7953"
                          ],
                          [
                            0.7777777777777778,
                            "#fb9f3a"
                          ],
                          [
                            0.8888888888888888,
                            "#fdca26"
                          ],
                          [
                            1,
                            "#f0f921"
                          ]
                        ],
                        "type": "heatmap"
                      }
                    ],
                    "heatmapgl": [
                      {
                        "colorbar": {
                          "outlinewidth": 0,
                          "ticks": ""
                        },
                        "colorscale": [
                          [
                            0,
                            "#0d0887"
                          ],
                          [
                            0.1111111111111111,
                            "#46039f"
                          ],
                          [
                            0.2222222222222222,
                            "#7201a8"
                          ],
                          [
                            0.3333333333333333,
                            "#9c179e"
                          ],
                          [
                            0.4444444444444444,
                            "#bd3786"
                          ],
                          [
                            0.5555555555555556,
                            "#d8576b"
                          ],
                          [
                            0.6666666666666666,
                            "#ed7953"
                          ],
                          [
                            0.7777777777777778,
                            "#fb9f3a"
                          ],
                          [
                            0.8888888888888888,
                            "#fdca26"
                          ],
                          [
                            1,
                            "#f0f921"
                          ]
                        ],
                        "type": "heatmapgl"
                      }
                    ],
                    "histogram": [
                      {
                        "marker": {
                          "pattern": {
                            "fillmode": "overlay",
                            "size": 10,
                            "solidity": 0.2
                          }
                        },
                        "type": "histogram"
                      }
                    ],
                    "histogram2d": [
                      {
                        "colorbar": {
                          "outlinewidth": 0,
                          "ticks": ""
                        },
                        "colorscale": [
                          [
                            0,
                            "#0d0887"
                          ],
                          [
                            0.1111111111111111,
                            "#46039f"
                          ],
                          [
                            0.2222222222222222,
                            "#7201a8"
                          ],
                          [
                            0.3333333333333333,
                            "#9c179e"
                          ],
                          [
                            0.4444444444444444,
                            "#bd3786"
                          ],
                          [
                            0.5555555555555556,
                            "#d8576b"
                          ],
                          [
                            0.6666666666666666,
                            "#ed7953"
                          ],
                          [
                            0.7777777777777778,
                            "#fb9f3a"
                          ],
                          [
                            0.8888888888888888,
                            "#fdca26"
                          ],
                          [
                            1,
                            "#f0f921"
                          ]
                        ],
                        "type": "histogram2d"
                      }
                    ],
                    "histogram2dcontour": [
                      {
                        "colorbar": {
                          "outlinewidth": 0,
                          "ticks": ""
                        },
                        "colorscale": [
                          [
                            0,
                            "#0d0887"
                          ],
                          [
                            0.1111111111111111,
                            "#46039f"
                          ],
                          [
                            0.2222222222222222,
                            "#7201a8"
                          ],
                          [
                            0.3333333333333333,
                            "#9c179e"
                          ],
                          [
                            0.4444444444444444,
                            "#bd3786"
                          ],
                          [
                            0.5555555555555556,
                            "#d8576b"
                          ],
                          [
                            0.6666666666666666,
                            "#ed7953"
                          ],
                          [
                            0.7777777777777778,
                            "#fb9f3a"
                          ],
                          [
                            0.8888888888888888,
                            "#fdca26"
                          ],
                          [
                            1,
                            "#f0f921"
                          ]
                        ],
                        "type": "histogram2dcontour"
                      }
                    ],
                    "mesh3d": [
                      {
                        "colorbar": {
                          "outlinewidth": 0,
                          "ticks": ""
                        },
                        "type": "mesh3d"
                      }
                    ],
                    "parcoords": [
                      {
                        "line": {
                          "colorbar": {
                            "outlinewidth": 0,
                            "ticks": ""
                          }
                        },
                        "type": "parcoords"
                      }
                    ],
                    "pie": [
                      {
                        "automargin": true,
                        "type": "pie"
                      }
                    ],
                    "scatter": [
                      {
                        "fillpattern": {
                          "fillmode": "overlay",
                          "size": 10,
                          "solidity": 0.2
                        },
                        "type": "scatter"
                      }
                    ],
                    "scatter3d": [
                      {
                        "line": {
                          "colorbar": {
                            "outlinewidth": 0,
                            "ticks": ""
                          }
                        },
                        "marker": {
                          "colorbar": {
                            "outlinewidth": 0,
                            "ticks": ""
                          }
                        },
                        "type": "scatter3d"
                      }
                    ],
                    "scattercarpet": [
                      {
                        "marker": {
                          "colorbar": {
                            "outlinewidth": 0,
                            "ticks": ""
                          }
                        },
                        "type": "scattercarpet"
                      }
                    ],
                    "scattergeo": [
                      {
                        "marker": {
                          "colorbar": {
                            "outlinewidth": 0,
                            "ticks": ""
                          }
                        },
                        "type": "scattergeo"
                      }
                    ],
                    "scattergl": [
                      {
                        "marker": {
                          "colorbar": {
                            "outlinewidth": 0,
                            "ticks": ""
                          }
                        },
                        "type": "scattergl"
                      }
                    ],
                    "scattermapbox": [
                      {
                        "marker": {
                          "colorbar": {
                            "outlinewidth": 0,
                            "ticks": ""
                          }
                        },
                        "type": "scattermapbox"
                      }
                    ],
                    "scatterpolar": [
                      {
                        "marker": {
                          "colorbar": {
                            "outlinewidth": 0,
                            "ticks": ""
                          }
                        },
                        "type": "scatterpolar"
                      }
                    ],
                    "scatterpolargl": [
                      {
                        "marker": {
                          "colorbar": {
                            "outlinewidth": 0,
                            "ticks": ""
                          }
                        },
                        "type": "scatterpolargl"
                      }
                    ],
                    "scatterternary": [
                      {
                        "marker": {
                          "colorbar": {
                            "outlinewidth": 0,
                            "ticks": ""
                          }
                        },
                        "type": "scatterternary"
                      }
                    ],
                    "surface": [
                      {
                        "colorbar": {
                          "outlinewidth": 0,
                          "ticks": ""
                        },
                        "colorscale": [
                          [
                            0,
                            "#0d0887"
                          ],
                          [
                            0.1111111111111111,
                            "#46039f"
                          ],
                          [
                            0.2222222222222222,
                            "#7201a8"
                          ],
                          [
                            0.3333333333333333,
                            "#9c179e"
                          ],
                          [
                            0.4444444444444444,
                            "#bd3786"
                          ],
                          [
                            0.5555555555555556,
                            "#d8576b"
                          ],
                          [
                            0.6666666666666666,
                            "#ed7953"
                          ],
                          [
                            0.7777777777777778,
                            "#fb9f3a"
                          ],
                          [
                            0.8888888888888888,
                            "#fdca26"
                          ],
                          [
                            1,
                            "#f0f921"
                          ]
                        ],
                        "type": "surface"
                      }
                    ],
                    "table": [
                      {
                        "cells": {
                          "fill": {
                            "color": "#EBF0F8"
                          },
                          "line": {
                            "color": "white"
                          }
                        },
                        "header": {
                          "fill": {
                            "color": "#C8D4E3"
                          },
                          "line": {
                            "color": "white"
                          }
                        },
                        "type": "table"
                      }
                    ]
                  },
                  "layout": {
                    "annotationdefaults": {
                      "arrowcolor": "#2a3f5f",
                      "arrowhead": 0,
                      "arrowwidth": 1
                    },
                    "autotypenumbers": "strict",
                    "coloraxis": {
                      "colorbar": {
                        "outlinewidth": 0,
                        "ticks": ""
                      }
                    },
                    "colorscale": {
                      "diverging": [
                        [
                          0,
                          "#8e0152"
                        ],
                        [
                          0.1,
                          "#c51b7d"
                        ],
                        [
                          0.2,
                          "#de77ae"
                        ],
                        [
                          0.3,
                          "#f1b6da"
                        ],
                        [
                          0.4,
                          "#fde0ef"
                        ],
                        [
                          0.5,
                          "#f7f7f7"
                        ],
                        [
                          0.6,
                          "#e6f5d0"
                        ],
                        [
                          0.7,
                          "#b8e186"
                        ],
                        [
                          0.8,
                          "#7fbc41"
                        ],
                        [
                          0.9,
                          "#4d9221"
                        ],
                        [
                          1,
                          "#276419"
                        ]
                      ],
                      "sequential": [
                        [
                          0,
                          "#0d0887"
                        ],
                        [
                          0.1111111111111111,
                          "#46039f"
                        ],
                        [
                          0.2222222222222222,
                          "#7201a8"
                        ],
                        [
                          0.3333333333333333,
                          "#9c179e"
                        ],
                        [
                          0.4444444444444444,
                          "#bd3786"
                        ],
                        [
                          0.5555555555555556,
                          "#d8576b"
                        ],
                        [
                          0.6666666666666666,
                          "#ed7953"
                        ],
                        [
                          0.7777777777777778,
                          "#fb9f3a"
                        ],
                        [
                          0.8888888888888888,
                          "#fdca26"
                        ],
                        [
                          1,
                          "#f0f921"
                        ]
                      ],
                      "sequentialminus": [
                        [
                          0,
                          "#0d0887"
                        ],
                        [
                          0.1111111111111111,
                          "#46039f"
                        ],
                        [
                          0.2222222222222222,
                          "#7201a8"
                        ],
                        [
                          0.3333333333333333,
                          "#9c179e"
                        ],
                        [
                          0.4444444444444444,
                          "#bd3786"
                        ],
                        [
                          0.5555555555555556,
                          "#d8576b"
                        ],
                        [
                          0.6666666666666666,
                          "#ed7953"
                        ],
                        [
                          0.7777777777777778,
                          "#fb9f3a"
                        ],
                        [
                          0.8888888888888888,
                          "#fdca26"
                        ],
                        [
                          1,
                          "#f0f921"
                        ]
                      ]
                    },
                    "colorway": [
                      "#636efa",
                      "#EF553B",
                      "#00cc96",
                      "#ab63fa",
                      "#FFA15A",
                      "#19d3f3",
                      "#FF6692",
                      "#B6E880",
                      "#FF97FF",
                      "#FECB52"
                    ],
                    "font": {
                      "color": "#2a3f5f"
                    },
                    "geo": {
                      "bgcolor": "white",
                      "lakecolor": "white",
                      "landcolor": "#E5ECF6",
                      "showlakes": true,
                      "showland": true,
                      "subunitcolor": "white"
                    },
                    "hoverlabel": {
                      "align": "left"
                    },
                    "hovermode": "closest",
                    "mapbox": {
                      "style": "light"
                    },
                    "paper_bgcolor": "white",
                    "plot_bgcolor": "#E5ECF6",
                    "polar": {
                      "angularaxis": {
                        "gridcolor": "white",
                        "linecolor": "white",
                        "ticks": ""
                      },
                      "bgcolor": "#E5ECF6",
                      "radialaxis": {
                        "gridcolor": "white",
                        "linecolor": "white",
                        "ticks": ""
                      }
                    },
                    "scene": {
                      "xaxis": {
                        "backgroundcolor": "#E5ECF6",
                        "gridcolor": "white",
                        "gridwidth": 2,
                        "linecolor": "white",
                        "showbackground": true,
                        "ticks": "",
                        "zerolinecolor": "white"
                      },
                      "yaxis": {
                        "backgroundcolor": "#E5ECF6",
                        "gridcolor": "white",
                        "gridwidth": 2,
                        "linecolor": "white",
                        "showbackground": true,
                        "ticks": "",
                        "zerolinecolor": "white"
                      },
                      "zaxis": {
                        "backgroundcolor": "#E5ECF6",
                        "gridcolor": "white",
                        "gridwidth": 2,
                        "linecolor": "white",
                        "showbackground": true,
                        "ticks": "",
                        "zerolinecolor": "white"
                      }
                    },
                    "shapedefaults": {
                      "line": {
                        "color": "#2a3f5f"
                      }
                    },
                    "ternary": {
                      "aaxis": {
                        "gridcolor": "white",
                        "linecolor": "white",
                        "ticks": ""
                      },
                      "baxis": {
                        "gridcolor": "white",
                        "linecolor": "white",
                        "ticks": ""
                      },
                      "bgcolor": "#E5ECF6",
                      "caxis": {
                        "gridcolor": "white",
                        "linecolor": "white",
                        "ticks": ""
                      }
                    },
                    "title": {
                      "x": 0.05
                    },
                    "xaxis": {
                      "automargin": true,
                      "gridcolor": "white",
                      "linecolor": "white",
                      "ticks": "",
                      "title": {
                        "standoff": 15
                      },
                      "zerolinecolor": "white",
                      "zerolinewidth": 2
                    },
                    "yaxis": {
                      "automargin": true,
                      "gridcolor": "white",
                      "linecolor": "white",
                      "ticks": "",
                      "title": {
                        "standoff": 15
                      },
                      "zerolinecolor": "white",
                      "zerolinewidth": 2
                    }
                  }
                },
                "title": {
                  "text": ""
                },
                "xaxis": {
                  "title": {
                    "text": "Iteration"
                  }
                },
                "yaxis": {
                  "range": [
                    371.606689453125,
                    454.62102539062505
                  ],
                  "title": {
                    "text": "MAE"
                  }
                }
              }
            }
          },
          "metadata": {},
          "output_type": "display_data"
        }
      ],
      "source": [
        "# Plot the figure\n",
        "fig = go.Figure(data=data, layout=layout)\n",
        "fig.show()"
      ]
    },
    {
      "cell_type": "markdown",
      "metadata": {},
      "source": [
        "### Dataset Size\n",
        "\n",
        "The example below observes the effect of dataset size"
      ]
    },
    {
      "cell_type": "markdown",
      "metadata": {},
      "source": [
        "We will try to explore the optimal dataset size using bayesian optimisation"
      ]
    },
    {
      "cell_type": "code",
      "execution_count": 25,
      "metadata": {},
      "outputs": [
        {
          "name": "stderr",
          "output_type": "stream",
          "text": [
            "[INFO 03-28 15:54:43] ax.service.utils.instantiation: Inferred value type of ParameterType.FLOAT for parameter train_size. If that is not the expected value type, you can explicitly specify 'value_type' ('int', 'float', 'bool' or 'str') in parameter dict.\n",
            "[INFO 03-28 15:54:43] ax.service.utils.instantiation: Created search space: SearchSpace(parameters=[RangeParameter(name='train_size', parameter_type=FLOAT, range=[0.2, 1.0])], parameter_constraints=[]).\n",
            "[INFO 03-28 15:54:43] ax.modelbridge.dispatch_utils: Using Models.BOTORCH_MODULAR since there is at least one ordered parameter and there are no unordered categorical parameters.\n",
            "[INFO 03-28 15:54:43] ax.modelbridge.dispatch_utils: Calculating the number of remaining initialization trials based on num_initialization_trials=None max_initialization_trials=None num_tunable_parameters=1 num_trials=None use_batch_trials=False\n",
            "[INFO 03-28 15:54:43] ax.modelbridge.dispatch_utils: calculated num_initialization_trials=5\n",
            "[INFO 03-28 15:54:43] ax.modelbridge.dispatch_utils: num_completed_initialization_trials=0 num_remaining_initialization_trials=5\n",
            "[INFO 03-28 15:54:43] ax.modelbridge.dispatch_utils: `verbose`, `disable_progbar`, and `jit_compile` are not yet supported when using `choose_generation_strategy` with ModularBoTorchModel, dropping these arguments.\n",
            "[INFO 03-28 15:54:43] ax.modelbridge.dispatch_utils: Using Bayesian Optimization generation strategy: GenerationStrategy(name='Sobol+BoTorch', steps=[Sobol for 5 trials, BoTorch for subsequent trials]). Iterations after 5 will take longer to generate due to model-fitting.\n",
            "[INFO 03-28 15:54:43] ax.service.managed_loop: Started full optimization with 3 steps.\n",
            "[INFO 03-28 15:54:43] ax.service.managed_loop: Running optimization trial 1...\n"
          ]
        },
        {
          "name": "stdout",
          "output_type": "stream",
          "text": [
            "338\n",
            "Running experiment for Net, training on 338 samples for 20 epochs.\n",
            "\n",
            "Model architecture:\n",
            "Net(\n",
            "  (lin0): Linear(in_features=11, out_features=64, bias=True)\n",
            "  (conv): NNConv(64, 64, aggr=mean, nn=Sequential(\n",
            "    (0): Linear(in_features=5, out_features=128, bias=True)\n",
            "    (1): ReLU()\n",
            "    (2): Linear(in_features=128, out_features=4096, bias=True)\n",
            "  ))\n",
            "  (gru): GRU(64, 64)\n",
            "  (set2set): Set2Set(64, 128)\n",
            "  (lin1): Linear(in_features=128, out_features=64, bias=True)\n",
            "  (lin2): Linear(in_features=64, out_features=1, bias=True)\n",
            ")\n",
            "Total parameters: 617025\n",
            "\n",
            "Start training:\n",
            "Epoch: 010, LR: 0.001000, Loss: 0.7405255, Val MAE: 0.6514916, Test MAE: 0.5344418\n",
            "Epoch: 020, LR: 0.001000, Loss: 0.4933398, Val MAE: 0.6090705, Test MAE: 0.4271696\n",
            "\n",
            "Done! Training took 1.08 mins. Best validation MAE: 0.4313646, corresponding test MAE: 0.4271696.\n"
          ]
        },
        {
          "name": "stderr",
          "output_type": "stream",
          "text": [
            "[INFO 03-28 15:55:50] ax.core.experiment: Attached data has some metrics ({'train_time', 'train_size'}) that are not among the metrics on this experiment. Note that attaching data will not automatically add those metrics to the experiment. For these metrics to be automatically fetched by `experiment.fetch_data`, add them via `experiment.add_tracking_metric` or update the experiment's optimization config.\n",
            "[INFO 03-28 15:55:50] ax.service.managed_loop: Running optimization trial 2...\n"
          ]
        },
        {
          "name": "stdout",
          "output_type": "stream",
          "text": [
            "490\n",
            "Running experiment for Net, training on 490 samples for 20 epochs.\n",
            "\n",
            "Model architecture:\n",
            "Net(\n",
            "  (lin0): Linear(in_features=11, out_features=64, bias=True)\n",
            "  (conv): NNConv(64, 64, aggr=mean, nn=Sequential(\n",
            "    (0): Linear(in_features=5, out_features=128, bias=True)\n",
            "    (1): ReLU()\n",
            "    (2): Linear(in_features=128, out_features=4096, bias=True)\n",
            "  ))\n",
            "  (gru): GRU(64, 64)\n",
            "  (set2set): Set2Set(64, 128)\n",
            "  (lin1): Linear(in_features=128, out_features=64, bias=True)\n",
            "  (lin2): Linear(in_features=64, out_features=1, bias=True)\n",
            ")\n",
            "Total parameters: 617025\n",
            "\n",
            "Start training:\n",
            "Epoch: 010, LR: 0.001000, Loss: 0.6136140, Val MAE: 0.4991317, Test MAE: 0.4828117\n",
            "Epoch: 020, LR: 0.001000, Loss: 0.3375688, Val MAE: 0.4422661, Test MAE: 0.4060277\n",
            "\n",
            "Done! Training took 1.38 mins. Best validation MAE: 0.4058731, corresponding test MAE: 0.4060277.\n"
          ]
        },
        {
          "name": "stderr",
          "output_type": "stream",
          "text": [
            "[INFO 03-28 15:57:13] ax.core.experiment: Attached data has some metrics ({'train_time', 'train_size'}) that are not among the metrics on this experiment. Note that attaching data will not automatically add those metrics to the experiment. For these metrics to be automatically fetched by `experiment.fetch_data`, add them via `experiment.add_tracking_metric` or update the experiment's optimization config.\n",
            "[INFO 03-28 15:57:13] ax.service.managed_loop: Running optimization trial 3...\n"
          ]
        },
        {
          "name": "stdout",
          "output_type": "stream",
          "text": [
            "292\n",
            "Running experiment for Net, training on 292 samples for 20 epochs.\n",
            "\n",
            "Model architecture:\n",
            "Net(\n",
            "  (lin0): Linear(in_features=11, out_features=64, bias=True)\n",
            "  (conv): NNConv(64, 64, aggr=mean, nn=Sequential(\n",
            "    (0): Linear(in_features=5, out_features=128, bias=True)\n",
            "    (1): ReLU()\n",
            "    (2): Linear(in_features=128, out_features=4096, bias=True)\n",
            "  ))\n",
            "  (gru): GRU(64, 64)\n",
            "  (set2set): Set2Set(64, 128)\n",
            "  (lin1): Linear(in_features=128, out_features=64, bias=True)\n",
            "  (lin2): Linear(in_features=64, out_features=1, bias=True)\n",
            ")\n",
            "Total parameters: 617025\n",
            "\n",
            "Start training:\n",
            "Epoch: 010, LR: 0.001000, Loss: 0.6976087, Val MAE: 0.5872365, Test MAE: 0.5398155\n",
            "Epoch: 020, LR: 0.001000, Loss: 0.5860211, Val MAE: 0.4674075, Test MAE: 0.4635357\n",
            "\n",
            "Done! Training took 1.02 mins. Best validation MAE: 0.4647324, corresponding test MAE: 0.4635357.\n"
          ]
        },
        {
          "name": "stderr",
          "output_type": "stream",
          "text": [
            "[INFO 03-28 15:58:14] ax.core.experiment: Attached data has some metrics ({'train_time', 'train_size'}) that are not among the metrics on this experiment. Note that attaching data will not automatically add those metrics to the experiment. For these metrics to be automatically fetched by `experiment.fetch_data`, add them via `experiment.add_tracking_metric` or update the experiment's optimization config.\n"
          ]
        },
        {
          "name": "stdout",
          "output_type": "stream",
          "text": [
            "{'train_size': 0.81675476282835}\n",
            "({'val_error': 0.4058730697631836, 'train_time': 1.3800097068150838, 'train_size': 0.81675476282835}, {'val_error': {'val_error': 0.0}, 'train_time': {'train_time': 0.0}, 'train_size': {'train_size': 0.0}})\n"
          ]
        }
      ],
      "source": [
        "# Dataset size is the parameter to be optimised\n",
        "\n",
        "# Define the parameters\n",
        "\n",
        "parameters = [\n",
        "    {\"name\": \"train_size\", \"type\": \"range\", \"bounds\": [0.2, 1.0], \"log_scale\": False},\n",
        "]\n",
        "\n",
        "# Define the evaluation function\n",
        "\n",
        "def train_evaluate(parameterization):\n",
        "    # Use the pre-defined train_dataset\n",
        "    train_size = parameterization.get(\"train_size\")\n",
        "    train_dataset = dataset[int(subset_size*0.4):] \n",
        "    # Use a fraction of the dataset\n",
        "    train_dataset= train_dataset[:int(train_size*len(train_dataset))]\n",
        "    train_loader = DataLoader(train_dataset, batch_size=128, shuffle=True)\n",
        "   \n",
        "\n",
        "    model = Net(dim=dim, num_neurons=128)\n",
        "    model_name=type(model).__name__\n",
        "\n",
        "    best_val_error, test_error, train_time, perf_per_epoch = run_experiment(\n",
        "        model, \n",
        "        model_name, \n",
        "        train_loader,\n",
        "        val_loader, \n",
        "        test_loader,\n",
        "        n_epochs=num_epochs\n",
        "    )\n",
        "    del model\n",
        "    gc.collect()\n",
        "    torch.cuda.empty_cache()\n",
        "\n",
        "    # Add a penalty term for the training time and dataset size\n",
        "    results = {\"val_error\": (best_val_error, 0.0),\"train_time\":(train_time, 0.0),\"train_size\":(train_size, 0.0)}\n",
        "    results[\"val_error_penalty\"] = results[\"val_error\"][0] + train_time/1000 + train_size/1000 # Need to determine an appropriate penalty term\n",
        "    return results\n",
        "\n",
        "    \n",
        "best_parameters, values, experiment, model = optimize(\n",
        "parameters=parameters,\n",
        "evaluation_function=train_evaluate,\n",
        "objective_name='val_error_penalty',\n",
        "total_trials=3,\n",
        "minimize=True\n",
        ")\n",
        "\n",
        "print(best_parameters)\n",
        "print(values)\n"
      ]
    },
    {
      "cell_type": "code",
      "execution_count": 26,
      "metadata": {},
      "outputs": [
        {
          "data": {
            "application/vnd.plotly.v1+json": {
              "config": {
                "plotlyServerURL": "https://plot.ly"
              },
              "data": [
                {
                  "error_y": {
                    "array": [
                      0,
                      0,
                      0
                    ],
                    "type": "data",
                    "visible": true
                  },
                  "marker": {
                    "color": "rgba(190,186,218,1)"
                  },
                  "mode": "markers",
                  "name": "objective value",
                  "type": "scatter",
                  "x": [
                    1,
                    2,
                    3
                  ],
                  "y": [
                    0.4313646221160889,
                    0.4058730697631836,
                    0.46473237991333005
                  ]
                },
                {
                  "hoverinfo": "none",
                  "legendgroup": "",
                  "line": {
                    "width": 0
                  },
                  "mode": "lines",
                  "showlegend": false,
                  "type": "scatter",
                  "x": [
                    1,
                    2,
                    3
                  ],
                  "y": [
                    0.4313646221160889,
                    0.4058730697631836,
                    0.4058730697631836
                  ]
                },
                {
                  "fill": "tonexty",
                  "fillcolor": "rgba(128,177,211,0.3)",
                  "legendgroup": "best objective so far",
                  "line": {
                    "color": "rgba(128,177,211,1)"
                  },
                  "mode": "lines",
                  "name": "best objective so far",
                  "type": "scatter",
                  "x": [
                    1,
                    2,
                    3
                  ],
                  "y": [
                    0.4313646221160889,
                    0.4058730697631836,
                    0.4058730697631836
                  ]
                },
                {
                  "fill": "tonexty",
                  "fillcolor": "rgba(128,177,211,0.3)",
                  "hoverinfo": "none",
                  "legendgroup": "",
                  "line": {
                    "width": 0
                  },
                  "mode": "lines",
                  "showlegend": false,
                  "type": "scatter",
                  "x": [
                    1,
                    2,
                    3
                  ],
                  "y": [
                    0.4313646221160889,
                    0.4058730697631836,
                    0.4058730697631836
                  ]
                }
              ],
              "layout": {
                "showlegend": true,
                "template": {
                  "data": {
                    "bar": [
                      {
                        "error_x": {
                          "color": "#2a3f5f"
                        },
                        "error_y": {
                          "color": "#2a3f5f"
                        },
                        "marker": {
                          "line": {
                            "color": "#E5ECF6",
                            "width": 0.5
                          },
                          "pattern": {
                            "fillmode": "overlay",
                            "size": 10,
                            "solidity": 0.2
                          }
                        },
                        "type": "bar"
                      }
                    ],
                    "barpolar": [
                      {
                        "marker": {
                          "line": {
                            "color": "#E5ECF6",
                            "width": 0.5
                          },
                          "pattern": {
                            "fillmode": "overlay",
                            "size": 10,
                            "solidity": 0.2
                          }
                        },
                        "type": "barpolar"
                      }
                    ],
                    "carpet": [
                      {
                        "aaxis": {
                          "endlinecolor": "#2a3f5f",
                          "gridcolor": "white",
                          "linecolor": "white",
                          "minorgridcolor": "white",
                          "startlinecolor": "#2a3f5f"
                        },
                        "baxis": {
                          "endlinecolor": "#2a3f5f",
                          "gridcolor": "white",
                          "linecolor": "white",
                          "minorgridcolor": "white",
                          "startlinecolor": "#2a3f5f"
                        },
                        "type": "carpet"
                      }
                    ],
                    "choropleth": [
                      {
                        "colorbar": {
                          "outlinewidth": 0,
                          "ticks": ""
                        },
                        "type": "choropleth"
                      }
                    ],
                    "contour": [
                      {
                        "colorbar": {
                          "outlinewidth": 0,
                          "ticks": ""
                        },
                        "colorscale": [
                          [
                            0,
                            "#0d0887"
                          ],
                          [
                            0.1111111111111111,
                            "#46039f"
                          ],
                          [
                            0.2222222222222222,
                            "#7201a8"
                          ],
                          [
                            0.3333333333333333,
                            "#9c179e"
                          ],
                          [
                            0.4444444444444444,
                            "#bd3786"
                          ],
                          [
                            0.5555555555555556,
                            "#d8576b"
                          ],
                          [
                            0.6666666666666666,
                            "#ed7953"
                          ],
                          [
                            0.7777777777777778,
                            "#fb9f3a"
                          ],
                          [
                            0.8888888888888888,
                            "#fdca26"
                          ],
                          [
                            1,
                            "#f0f921"
                          ]
                        ],
                        "type": "contour"
                      }
                    ],
                    "contourcarpet": [
                      {
                        "colorbar": {
                          "outlinewidth": 0,
                          "ticks": ""
                        },
                        "type": "contourcarpet"
                      }
                    ],
                    "heatmap": [
                      {
                        "colorbar": {
                          "outlinewidth": 0,
                          "ticks": ""
                        },
                        "colorscale": [
                          [
                            0,
                            "#0d0887"
                          ],
                          [
                            0.1111111111111111,
                            "#46039f"
                          ],
                          [
                            0.2222222222222222,
                            "#7201a8"
                          ],
                          [
                            0.3333333333333333,
                            "#9c179e"
                          ],
                          [
                            0.4444444444444444,
                            "#bd3786"
                          ],
                          [
                            0.5555555555555556,
                            "#d8576b"
                          ],
                          [
                            0.6666666666666666,
                            "#ed7953"
                          ],
                          [
                            0.7777777777777778,
                            "#fb9f3a"
                          ],
                          [
                            0.8888888888888888,
                            "#fdca26"
                          ],
                          [
                            1,
                            "#f0f921"
                          ]
                        ],
                        "type": "heatmap"
                      }
                    ],
                    "heatmapgl": [
                      {
                        "colorbar": {
                          "outlinewidth": 0,
                          "ticks": ""
                        },
                        "colorscale": [
                          [
                            0,
                            "#0d0887"
                          ],
                          [
                            0.1111111111111111,
                            "#46039f"
                          ],
                          [
                            0.2222222222222222,
                            "#7201a8"
                          ],
                          [
                            0.3333333333333333,
                            "#9c179e"
                          ],
                          [
                            0.4444444444444444,
                            "#bd3786"
                          ],
                          [
                            0.5555555555555556,
                            "#d8576b"
                          ],
                          [
                            0.6666666666666666,
                            "#ed7953"
                          ],
                          [
                            0.7777777777777778,
                            "#fb9f3a"
                          ],
                          [
                            0.8888888888888888,
                            "#fdca26"
                          ],
                          [
                            1,
                            "#f0f921"
                          ]
                        ],
                        "type": "heatmapgl"
                      }
                    ],
                    "histogram": [
                      {
                        "marker": {
                          "pattern": {
                            "fillmode": "overlay",
                            "size": 10,
                            "solidity": 0.2
                          }
                        },
                        "type": "histogram"
                      }
                    ],
                    "histogram2d": [
                      {
                        "colorbar": {
                          "outlinewidth": 0,
                          "ticks": ""
                        },
                        "colorscale": [
                          [
                            0,
                            "#0d0887"
                          ],
                          [
                            0.1111111111111111,
                            "#46039f"
                          ],
                          [
                            0.2222222222222222,
                            "#7201a8"
                          ],
                          [
                            0.3333333333333333,
                            "#9c179e"
                          ],
                          [
                            0.4444444444444444,
                            "#bd3786"
                          ],
                          [
                            0.5555555555555556,
                            "#d8576b"
                          ],
                          [
                            0.6666666666666666,
                            "#ed7953"
                          ],
                          [
                            0.7777777777777778,
                            "#fb9f3a"
                          ],
                          [
                            0.8888888888888888,
                            "#fdca26"
                          ],
                          [
                            1,
                            "#f0f921"
                          ]
                        ],
                        "type": "histogram2d"
                      }
                    ],
                    "histogram2dcontour": [
                      {
                        "colorbar": {
                          "outlinewidth": 0,
                          "ticks": ""
                        },
                        "colorscale": [
                          [
                            0,
                            "#0d0887"
                          ],
                          [
                            0.1111111111111111,
                            "#46039f"
                          ],
                          [
                            0.2222222222222222,
                            "#7201a8"
                          ],
                          [
                            0.3333333333333333,
                            "#9c179e"
                          ],
                          [
                            0.4444444444444444,
                            "#bd3786"
                          ],
                          [
                            0.5555555555555556,
                            "#d8576b"
                          ],
                          [
                            0.6666666666666666,
                            "#ed7953"
                          ],
                          [
                            0.7777777777777778,
                            "#fb9f3a"
                          ],
                          [
                            0.8888888888888888,
                            "#fdca26"
                          ],
                          [
                            1,
                            "#f0f921"
                          ]
                        ],
                        "type": "histogram2dcontour"
                      }
                    ],
                    "mesh3d": [
                      {
                        "colorbar": {
                          "outlinewidth": 0,
                          "ticks": ""
                        },
                        "type": "mesh3d"
                      }
                    ],
                    "parcoords": [
                      {
                        "line": {
                          "colorbar": {
                            "outlinewidth": 0,
                            "ticks": ""
                          }
                        },
                        "type": "parcoords"
                      }
                    ],
                    "pie": [
                      {
                        "automargin": true,
                        "type": "pie"
                      }
                    ],
                    "scatter": [
                      {
                        "fillpattern": {
                          "fillmode": "overlay",
                          "size": 10,
                          "solidity": 0.2
                        },
                        "type": "scatter"
                      }
                    ],
                    "scatter3d": [
                      {
                        "line": {
                          "colorbar": {
                            "outlinewidth": 0,
                            "ticks": ""
                          }
                        },
                        "marker": {
                          "colorbar": {
                            "outlinewidth": 0,
                            "ticks": ""
                          }
                        },
                        "type": "scatter3d"
                      }
                    ],
                    "scattercarpet": [
                      {
                        "marker": {
                          "colorbar": {
                            "outlinewidth": 0,
                            "ticks": ""
                          }
                        },
                        "type": "scattercarpet"
                      }
                    ],
                    "scattergeo": [
                      {
                        "marker": {
                          "colorbar": {
                            "outlinewidth": 0,
                            "ticks": ""
                          }
                        },
                        "type": "scattergeo"
                      }
                    ],
                    "scattergl": [
                      {
                        "marker": {
                          "colorbar": {
                            "outlinewidth": 0,
                            "ticks": ""
                          }
                        },
                        "type": "scattergl"
                      }
                    ],
                    "scattermapbox": [
                      {
                        "marker": {
                          "colorbar": {
                            "outlinewidth": 0,
                            "ticks": ""
                          }
                        },
                        "type": "scattermapbox"
                      }
                    ],
                    "scatterpolar": [
                      {
                        "marker": {
                          "colorbar": {
                            "outlinewidth": 0,
                            "ticks": ""
                          }
                        },
                        "type": "scatterpolar"
                      }
                    ],
                    "scatterpolargl": [
                      {
                        "marker": {
                          "colorbar": {
                            "outlinewidth": 0,
                            "ticks": ""
                          }
                        },
                        "type": "scatterpolargl"
                      }
                    ],
                    "scatterternary": [
                      {
                        "marker": {
                          "colorbar": {
                            "outlinewidth": 0,
                            "ticks": ""
                          }
                        },
                        "type": "scatterternary"
                      }
                    ],
                    "surface": [
                      {
                        "colorbar": {
                          "outlinewidth": 0,
                          "ticks": ""
                        },
                        "colorscale": [
                          [
                            0,
                            "#0d0887"
                          ],
                          [
                            0.1111111111111111,
                            "#46039f"
                          ],
                          [
                            0.2222222222222222,
                            "#7201a8"
                          ],
                          [
                            0.3333333333333333,
                            "#9c179e"
                          ],
                          [
                            0.4444444444444444,
                            "#bd3786"
                          ],
                          [
                            0.5555555555555556,
                            "#d8576b"
                          ],
                          [
                            0.6666666666666666,
                            "#ed7953"
                          ],
                          [
                            0.7777777777777778,
                            "#fb9f3a"
                          ],
                          [
                            0.8888888888888888,
                            "#fdca26"
                          ],
                          [
                            1,
                            "#f0f921"
                          ]
                        ],
                        "type": "surface"
                      }
                    ],
                    "table": [
                      {
                        "cells": {
                          "fill": {
                            "color": "#EBF0F8"
                          },
                          "line": {
                            "color": "white"
                          }
                        },
                        "header": {
                          "fill": {
                            "color": "#C8D4E3"
                          },
                          "line": {
                            "color": "white"
                          }
                        },
                        "type": "table"
                      }
                    ]
                  },
                  "layout": {
                    "annotationdefaults": {
                      "arrowcolor": "#2a3f5f",
                      "arrowhead": 0,
                      "arrowwidth": 1
                    },
                    "autotypenumbers": "strict",
                    "coloraxis": {
                      "colorbar": {
                        "outlinewidth": 0,
                        "ticks": ""
                      }
                    },
                    "colorscale": {
                      "diverging": [
                        [
                          0,
                          "#8e0152"
                        ],
                        [
                          0.1,
                          "#c51b7d"
                        ],
                        [
                          0.2,
                          "#de77ae"
                        ],
                        [
                          0.3,
                          "#f1b6da"
                        ],
                        [
                          0.4,
                          "#fde0ef"
                        ],
                        [
                          0.5,
                          "#f7f7f7"
                        ],
                        [
                          0.6,
                          "#e6f5d0"
                        ],
                        [
                          0.7,
                          "#b8e186"
                        ],
                        [
                          0.8,
                          "#7fbc41"
                        ],
                        [
                          0.9,
                          "#4d9221"
                        ],
                        [
                          1,
                          "#276419"
                        ]
                      ],
                      "sequential": [
                        [
                          0,
                          "#0d0887"
                        ],
                        [
                          0.1111111111111111,
                          "#46039f"
                        ],
                        [
                          0.2222222222222222,
                          "#7201a8"
                        ],
                        [
                          0.3333333333333333,
                          "#9c179e"
                        ],
                        [
                          0.4444444444444444,
                          "#bd3786"
                        ],
                        [
                          0.5555555555555556,
                          "#d8576b"
                        ],
                        [
                          0.6666666666666666,
                          "#ed7953"
                        ],
                        [
                          0.7777777777777778,
                          "#fb9f3a"
                        ],
                        [
                          0.8888888888888888,
                          "#fdca26"
                        ],
                        [
                          1,
                          "#f0f921"
                        ]
                      ],
                      "sequentialminus": [
                        [
                          0,
                          "#0d0887"
                        ],
                        [
                          0.1111111111111111,
                          "#46039f"
                        ],
                        [
                          0.2222222222222222,
                          "#7201a8"
                        ],
                        [
                          0.3333333333333333,
                          "#9c179e"
                        ],
                        [
                          0.4444444444444444,
                          "#bd3786"
                        ],
                        [
                          0.5555555555555556,
                          "#d8576b"
                        ],
                        [
                          0.6666666666666666,
                          "#ed7953"
                        ],
                        [
                          0.7777777777777778,
                          "#fb9f3a"
                        ],
                        [
                          0.8888888888888888,
                          "#fdca26"
                        ],
                        [
                          1,
                          "#f0f921"
                        ]
                      ]
                    },
                    "colorway": [
                      "#636efa",
                      "#EF553B",
                      "#00cc96",
                      "#ab63fa",
                      "#FFA15A",
                      "#19d3f3",
                      "#FF6692",
                      "#B6E880",
                      "#FF97FF",
                      "#FECB52"
                    ],
                    "font": {
                      "color": "#2a3f5f"
                    },
                    "geo": {
                      "bgcolor": "white",
                      "lakecolor": "white",
                      "landcolor": "#E5ECF6",
                      "showlakes": true,
                      "showland": true,
                      "subunitcolor": "white"
                    },
                    "hoverlabel": {
                      "align": "left"
                    },
                    "hovermode": "closest",
                    "mapbox": {
                      "style": "light"
                    },
                    "paper_bgcolor": "white",
                    "plot_bgcolor": "#E5ECF6",
                    "polar": {
                      "angularaxis": {
                        "gridcolor": "white",
                        "linecolor": "white",
                        "ticks": ""
                      },
                      "bgcolor": "#E5ECF6",
                      "radialaxis": {
                        "gridcolor": "white",
                        "linecolor": "white",
                        "ticks": ""
                      }
                    },
                    "scene": {
                      "xaxis": {
                        "backgroundcolor": "#E5ECF6",
                        "gridcolor": "white",
                        "gridwidth": 2,
                        "linecolor": "white",
                        "showbackground": true,
                        "ticks": "",
                        "zerolinecolor": "white"
                      },
                      "yaxis": {
                        "backgroundcolor": "#E5ECF6",
                        "gridcolor": "white",
                        "gridwidth": 2,
                        "linecolor": "white",
                        "showbackground": true,
                        "ticks": "",
                        "zerolinecolor": "white"
                      },
                      "zaxis": {
                        "backgroundcolor": "#E5ECF6",
                        "gridcolor": "white",
                        "gridwidth": 2,
                        "linecolor": "white",
                        "showbackground": true,
                        "ticks": "",
                        "zerolinecolor": "white"
                      }
                    },
                    "shapedefaults": {
                      "line": {
                        "color": "#2a3f5f"
                      }
                    },
                    "ternary": {
                      "aaxis": {
                        "gridcolor": "white",
                        "linecolor": "white",
                        "ticks": ""
                      },
                      "baxis": {
                        "gridcolor": "white",
                        "linecolor": "white",
                        "ticks": ""
                      },
                      "bgcolor": "#E5ECF6",
                      "caxis": {
                        "gridcolor": "white",
                        "linecolor": "white",
                        "ticks": ""
                      }
                    },
                    "title": {
                      "x": 0.05
                    },
                    "xaxis": {
                      "automargin": true,
                      "gridcolor": "white",
                      "linecolor": "white",
                      "ticks": "",
                      "title": {
                        "standoff": 15
                      },
                      "zerolinecolor": "white",
                      "zerolinewidth": 2
                    },
                    "yaxis": {
                      "automargin": true,
                      "gridcolor": "white",
                      "linecolor": "white",
                      "ticks": "",
                      "title": {
                        "standoff": 15
                      },
                      "zerolinecolor": "white",
                      "zerolinewidth": 2
                    }
                  }
                },
                "title": {
                  "text": ""
                },
                "xaxis": {
                  "title": {
                    "text": "Iteration"
                  }
                },
                "yaxis": {
                  "range": [
                    0.39950018167495727,
                    0.4759748387336732
                  ],
                  "title": {
                    "text": "MAE"
                  }
                }
              }
            }
          },
          "metadata": {},
          "output_type": "display_data"
        }
      ],
      "source": [
        "# Plot the results\n",
        "trials = experiment.trials.values()\n",
        "\n",
        "best_objectives = np.array([[trial.objective_mean for trial in trials]])\n",
        "best_objective_plot = optimization_trace_single_method(\n",
        "    y=best_objectives,\n",
        "    optimization_direction=\"minimize\",\n",
        "    ylabel=\"MAE\",\n",
        "    #hover_labels=parameter_strs,\n",
        "    plot_trial_points=True,\n",
        ")\n",
        "data = best_objective_plot[0][\"data\"]\n",
        "layout = best_objective_plot[0][\"layout\"]\n",
        "\n",
        "\n",
        "# Plot the figure\n",
        "fig = go.Figure(data=data, layout=layout)\n",
        "fig.show()"
      ]
    },
    {
      "cell_type": "markdown",
      "metadata": {},
      "source": [
        "## Future plans\n",
        "Implementing a method which the dataset size as an extra degree of freedom during a hyperparameter search would be the next steps to truly understand dataset efficiency (https://ml.informatik.uni-freiburg.de/wp-content/uploads/papers/15-BayesOpt-EnvES.pdf)\n"
      ]
    }
  ],
  "metadata": {
    "accelerator": "GPU",
    "colab": {
      "gpuType": "T4",
      "private_outputs": true,
      "provenance": []
    },
    "kernelspec": {
      "display_name": "Python 3",
      "name": "python3"
    },
    "language_info": {
      "codemirror_mode": {
        "name": "ipython",
        "version": 3
      },
      "file_extension": ".py",
      "mimetype": "text/x-python",
      "name": "python",
      "nbconvert_exporter": "python",
      "pygments_lexer": "ipython3",
      "version": "3.10.14"
    }
  },
  "nbformat": 4,
  "nbformat_minor": 0
}
