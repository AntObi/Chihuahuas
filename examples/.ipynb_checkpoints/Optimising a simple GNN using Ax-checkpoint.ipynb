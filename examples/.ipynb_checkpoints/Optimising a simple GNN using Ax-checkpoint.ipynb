{
 "cells": [
  {
   "cell_type": "markdown",
   "metadata": {},
   "source": [
    "# Optimising a GCN using Ax\n",
    "\n",
    "<a target=\"_blank\" href=\"https://colab.research.google.com/github/chaitjo/geometric-gnn-dojo/blob/main/geometric_gnn_101.ipynb\">\n",
    "  <img src=\"https://colab.research.google.com/assets/colab-badge.svg\" alt=\"Open In Colab\"/>\n",
    "</a>"
   ]
  },
  {
   "cell_type": "code",
   "execution_count": 10,
   "metadata": {},
   "outputs": [],
   "source": [
    "import os\n",
    "import time\n",
    "import random\n",
    "import numpy as np\n",
    "\n",
    "import torch\n",
    "import torch.nn.functional as F\n",
    "from torch.nn import Linear, ReLU, BatchNorm1d, Module, Sequential\n",
    "\n",
    "from torch_geometric.datasets import QM9\n",
    "\n",
    "from torch_geometric.datasets import QM9\n",
    "import torch_geometric.transforms as T\n",
    "from torch_geometric.nn import GCNConv, GINConv\n",
    "from torch_geometric.loader import DataLoader\n",
    "from torch_geometric.nn import global_mean_pool, global_add_pool\n",
    "from torch_geometric.utils import remove_self_loops, to_dense_adj, dense_to_sparse\n",
    "\n",
    "import pprint\n",
    "from os.path import join\n",
    "from pathlib import Path\n",
    "import pandas as pd\n",
    "\n",
    "import plotly.graph_objects as go\n",
    "\n",
    "import gc\n",
    "import torch\n",
    "\n",
    "from ax.storage.json_store.save import save_experiment\n",
    "from ax.plot.trace import optimization_trace_single_method\n",
    "from ax.service.managed_loop import optimize\n",
    "from sklearn.metrics import mean_absolute_error\n",
    "from sklearn.model_selection import KFold\n",
    "\n",
    "from rdkit import Chem  # To extract information of the molecules\n",
    "from rdkit.Chem import Draw  # To draw the molecules\n",
    "import random\n",
    "from functools import partial"
   ]
  },
  {
   "cell_type": "code",
   "execution_count": 4,
   "metadata": {},
   "outputs": [],
   "source": [
    "# Seed everything\n",
    "\n",
    "def seed(seed=0):\n",
    "    random.seed(seed)\n",
    "    np.random.seed(seed)\n",
    "    torch.manual_seed(seed)\n",
    "    torch.cuda.manual_seed(seed)\n",
    "    torch.cuda.manual_seed_all(seed)\n",
    "    torch.backends.cudnn.deterministic = True\n",
    "    torch.backends.cudnn.benchmark = False\n",
    "\n",
    "seed(0)"
   ]
  },
  {
   "cell_type": "code",
   "execution_count": 5,
   "metadata": {},
   "outputs": [],
   "source": [
    "# Create a directory for the QM9 dataset\n",
    "qm9_dir = \"qm9_data\"\n",
    "Path(qm9_dir).mkdir(parents=True, exist_ok=True)"
   ]
  },
  {
   "cell_type": "code",
   "execution_count": 11,
   "metadata": {},
   "outputs": [],
   "source": [
    "# Write a helper function for data prep\n",
    "\n",
    "def select_target(data, target_index=0):\n",
    "    data.y = data.y[:, target_index]\n",
    "    return data\n",
    "SetTargetTransform = partial(select_target, target_index=0)\n",
    "#class SetTargetTransformWrapper(object):\n",
    "    \n",
    "class SetTarget(object):\n",
    "    \"\"\"\n",
    "    This transform sets the target attribute of the dataset to the specified index.\n",
    "\n",
    "    Default index is 0 which is the dipole moment.\n",
    "    \"\"\"\n",
    "    def __init__(self, target_index=0):\n",
    "        self.target_index = target_index\n",
    "    def __call__(self, data):\n",
    "        data.y = data.y[:, self.target_index]\n",
    "        return data\n",
    "    \n",
    "class MakeComplete(object):\n",
    "    \"\"\"\n",
    "    This transform makes the graph complete by adding edges between all pairs of nodes.\n",
    "    \"\"\"\n",
    "    def __call__(self, data):\n",
    "        device = data.edge_index.device\n",
    "\n",
    "        row = torch.arange(data.num_nodes, dtype=torch.long, device=device)\n",
    "        col = torch.arange(data.num_nodes, dtype=torch.long, device=device)\n",
    "\n",
    "        row = row.view(-1, 1).repeat(1, data.num_nodes).view(-1)\n",
    "        col = col.repeat(data.num_nodes)\n",
    "        edge_index = torch.stack([row, col], dim=0)\n",
    "\n",
    "        edge_attr = None\n",
    "        if data.edge_attr is not None:\n",
    "            idx = data.edge_index[0] * data.num_nodes + data.edge_index[1]\n",
    "            size = list(data.edge_attr.size())\n",
    "            size[0] = data.num_nodes * data.num_nodes\n",
    "            edge_attr = data.edge_attr.new_zeros(size)\n",
    "            edge_attr[idx] = data.edge_attr\n",
    "\n",
    "        edge_index, edge_attr = remove_self_loops(edge_index, edge_attr)\n",
    "        data.edge_attr = edge_attr\n",
    "        data.edge_index = edge_index\n",
    "\n",
    "        return data"
   ]
  },
  {
   "cell_type": "markdown",
   "metadata": {},
   "source": [
    "## Dataset\n",
    "\n",
    "For this example, we will be using the QM9 dataset, which is a dataset of small organic molecules. The dataset contains 134k molecules, each with 19 features.\n",
    "\n",
    "| Target | Description                                |\n",
    "|--------|--------------------------------------------|\n",
    "| 0      | Dipole moment                              |\n",
    "| 1      | Isotropic polarizability                   |\n",
    "| 2      | Highest occupied molecular orbital energy  |\n",
    "| 3      | Lowest unoccupied molecular orbital energy |\n",
    "| 4      | Gap between HOMO and LUMO                  |\n",
    "| 5      | Electronic spatial extent                  |\n",
    "| 6      | Zero point vibrational energy              |\n",
    "| 7      | Internal energy at 0K                      |\n",
    "| 8      | Internal energy at 298.15K                 |\n",
    "| 9      | Enthalpy at 298.15K                        |\n",
    "| 10     | Free energy at 298.15K                     |\n",
    "| 11     | Heat capavity at 298.15K                   |\n",
    "| 12     | Atomization energy at 0K                   |\n",
    "| 13     | Atomization energy at 298.15K              |\n",
    "| 14     | Atomization enthalpy at 298.15K            |\n",
    "| 15     | Atomization free energy at 298.15K         |\n",
    "| 16     | Rotational constant                        |\n",
    "| 17     | Rotational constant                        |\n",
    "| 18     | Rotational constant                        |"
   ]
  },
  {
   "cell_type": "code",
   "execution_count": 12,
   "metadata": {},
   "outputs": [
    {
     "name": "stderr",
     "output_type": "stream",
     "text": [
      "Downloading https://deepchemdata.s3-us-west-1.amazonaws.com/datasets/molnet_publish/qm9.zip\n",
      "Extracting qm9_data\\raw\\qm9.zip\n",
      "Downloading https://ndownloader.figshare.com/files/3195404\n",
      "Processing...\n",
      "100%|██████████| 133885/133885 [03:02<00:00, 733.94it/s] \n",
      "Done!\n",
      "c:\\Users\\AntObi\\anaconda3\\envs\\BO_chem\\lib\\site-packages\\torch_geometric\\data\\in_memory_dataset.py:300: UserWarning: It is not recommended to directly access the internal storage format `data` of an 'InMemoryDataset'. If you are absolutely certain what you are doing, access the internal storage via `InMemoryDataset._data` instead to suppress this warning. Alternatively, you can access stacked individual attributes of every graph via `dataset.{attr_name}`.\n",
      "  warnings.warn(msg)\n"
     ]
    }
   ],
   "source": [
    "# Load the QM9 dataset\n",
    "\n",
    "# Target 0 - dipole moment\n",
    "target = 0\n",
    "# Transforms applied are to set the target and to fully connect the graphs\n",
    "transform = T.Compose([SetTarget(target_index=target), MakeComplete()])\n",
    "\n",
    "# Load the dataset\n",
    "qm9_dataset =QM9(qm9_dir,transform=transform)\n",
    "\n",
    "# Normalize the targets\n",
    "mean = qm9_dataset.data.y.mean(dim=0, keepdim=True)\n",
    "std = qm9_dataset.data.y.std(dim=0, keepdim=True)\n",
    "qm9_dataset.data.y = (qm9_dataset.data.y - mean) / std\n",
    "mean, std = mean[:, target].item(), std[:, target].item()"
   ]
  },
  {
   "cell_type": "code",
   "execution_count": 15,
   "metadata": {},
   "outputs": [
    {
     "data": {
      "text/plain": [
       "Data(x=[5, 11], edge_index=[2, 20], edge_attr=[20, 4], y=[1], pos=[5, 3], z=[5], smiles='[H]C([H])([H])[H]', name='gdb_1', idx=[1])"
      ]
     },
     "execution_count": 15,
     "metadata": {},
     "output_type": "execute_result"
    }
   ],
   "source": [
    "qm9_dataset[0]"
   ]
  },
  {
   "cell_type": "markdown",
   "metadata": {},
   "source": [
    "Let's visualise some of the dataset"
   ]
  },
  {
   "cell_type": "code",
   "execution_count": 18,
   "metadata": {},
   "outputs": [
    {
     "ename": "TypeError",
     "evalue": "No registered converter was able to produce a C++ rvalue of type class std::basic_string<char,struct std::char_traits<char>,class std::allocator<char> > from this Python object of type tuple",
     "output_type": "error",
     "traceback": [
      "\u001b[1;31m---------------------------------------------------------------------------\u001b[0m",
      "\u001b[1;31mTypeError\u001b[0m                                 Traceback (most recent call last)",
      "Cell \u001b[1;32mIn[18], line 7\u001b[0m\n\u001b[0;32m      5\u001b[0m dipoles \u001b[38;5;241m=\u001b[39m [qm9_dataset\u001b[38;5;241m.\u001b[39my \u001b[38;5;28;01mfor\u001b[39;00m i \u001b[38;5;129;01min\u001b[39;00m \u001b[38;5;28mrange\u001b[39m(num_viz)]\n\u001b[0;32m      6\u001b[0m legend \u001b[38;5;241m=\u001b[39m [(smile, dipole) \u001b[38;5;28;01mfor\u001b[39;00m smile, dipole \u001b[38;5;129;01min\u001b[39;00m \u001b[38;5;28mzip\u001b[39m(smiles, dipoles)]\n\u001b[1;32m----> 7\u001b[0m \u001b[43mDraw\u001b[49m\u001b[38;5;241;43m.\u001b[39;49m\u001b[43mMolsToGridImage\u001b[49m\u001b[43m(\u001b[49m\u001b[43mmols\u001b[49m\u001b[43m,\u001b[49m\u001b[43m \u001b[49m\u001b[43mmolsPerRow\u001b[49m\u001b[38;5;241;43m=\u001b[39;49m\u001b[38;5;241;43m5\u001b[39;49m\u001b[43m,\u001b[49m\u001b[43m \u001b[49m\u001b[43museSVG\u001b[49m\u001b[38;5;241;43m=\u001b[39;49m\u001b[38;5;28;43;01mTrue\u001b[39;49;00m\u001b[43m,\u001b[49m\u001b[43mlegends\u001b[49m\u001b[38;5;241;43m=\u001b[39;49m\u001b[43mlegend\u001b[49m\u001b[43m)\u001b[49m\n",
      "File \u001b[1;32mc:\\Users\\AntObi\\anaconda3\\envs\\BO_chem\\lib\\site-packages\\rdkit\\Chem\\Draw\\IPythonConsole.py:271\u001b[0m, in \u001b[0;36mShowMols\u001b[1;34m(mols, maxMols, **kwargs)\u001b[0m\n\u001b[0;32m    268\u001b[0m \u001b[38;5;28;01mif\u001b[39;00m \u001b[38;5;124m\"\u001b[39m\u001b[38;5;124mdrawOptions\u001b[39m\u001b[38;5;124m\"\u001b[39m \u001b[38;5;129;01mnot\u001b[39;00m \u001b[38;5;129;01min\u001b[39;00m kwargs:\n\u001b[0;32m    269\u001b[0m   kwargs[\u001b[38;5;124m\"\u001b[39m\u001b[38;5;124mdrawOptions\u001b[39m\u001b[38;5;124m\"\u001b[39m] \u001b[38;5;241m=\u001b[39m drawOptions\n\u001b[1;32m--> 271\u001b[0m res \u001b[38;5;241m=\u001b[39m fn(mols, \u001b[38;5;241m*\u001b[39m\u001b[38;5;241m*\u001b[39mkwargs)\n\u001b[0;32m    272\u001b[0m \u001b[38;5;28;01mif\u001b[39;00m InteractiveRenderer\u001b[38;5;241m.\u001b[39misEnabled():\n\u001b[0;32m    273\u001b[0m   \u001b[38;5;28;01mreturn\u001b[39;00m HTML(res)\n",
      "File \u001b[1;32mc:\\Users\\AntObi\\anaconda3\\envs\\BO_chem\\lib\\site-packages\\rdkit\\Chem\\Draw\\__init__.py:817\u001b[0m, in \u001b[0;36mMolsToGridImage\u001b[1;34m(mols, molsPerRow, subImgSize, legends, highlightAtomLists, highlightBondLists, useSVG, returnPNG, **kwargs)\u001b[0m\n\u001b[0;32m    814\u001b[0m   highlightBondLists \u001b[38;5;241m=\u001b[39m highlightBondLists[:\u001b[38;5;28mlen\u001b[39m(mols)]\n\u001b[0;32m    816\u001b[0m \u001b[38;5;28;01mif\u001b[39;00m useSVG:\n\u001b[1;32m--> 817\u001b[0m   \u001b[38;5;28;01mreturn\u001b[39;00m _MolsToGridSVG(mols, molsPerRow\u001b[38;5;241m=\u001b[39mmolsPerRow, subImgSize\u001b[38;5;241m=\u001b[39msubImgSize, legends\u001b[38;5;241m=\u001b[39mlegends,\n\u001b[0;32m    818\u001b[0m                         highlightAtomLists\u001b[38;5;241m=\u001b[39mhighlightAtomLists,\n\u001b[0;32m    819\u001b[0m                         highlightBondLists\u001b[38;5;241m=\u001b[39mhighlightBondLists, \u001b[38;5;241m*\u001b[39m\u001b[38;5;241m*\u001b[39mkwargs)\n\u001b[0;32m    820\u001b[0m \u001b[38;5;28;01melse\u001b[39;00m:\n\u001b[0;32m    821\u001b[0m   \u001b[38;5;28;01mreturn\u001b[39;00m _MolsToGridImage(mols, molsPerRow\u001b[38;5;241m=\u001b[39mmolsPerRow, subImgSize\u001b[38;5;241m=\u001b[39msubImgSize, legends\u001b[38;5;241m=\u001b[39mlegends,\n\u001b[0;32m    822\u001b[0m                           highlightAtomLists\u001b[38;5;241m=\u001b[39mhighlightAtomLists,\n\u001b[0;32m    823\u001b[0m                           highlightBondLists\u001b[38;5;241m=\u001b[39mhighlightBondLists, returnPNG\u001b[38;5;241m=\u001b[39mreturnPNG, \u001b[38;5;241m*\u001b[39m\u001b[38;5;241m*\u001b[39mkwargs)\n",
      "File \u001b[1;32mc:\\Users\\AntObi\\anaconda3\\envs\\BO_chem\\lib\\site-packages\\rdkit\\Chem\\Draw\\__init__.py:799\u001b[0m, in \u001b[0;36m_MolsToGridSVG\u001b[1;34m(mols, molsPerRow, subImgSize, legends, highlightAtomLists, highlightBondLists, drawOptions, **kwargs)\u001b[0m\n\u001b[0;32m    797\u001b[0m       \u001b[38;5;28msetattr\u001b[39m(dops, k, v)\n\u001b[0;32m    798\u001b[0m       \u001b[38;5;28;01mdel\u001b[39;00m kwargs[k]\n\u001b[1;32m--> 799\u001b[0m d2d\u001b[38;5;241m.\u001b[39mDrawMolecules(\u001b[38;5;28mlist\u001b[39m(mols), legends\u001b[38;5;241m=\u001b[39mlegends \u001b[38;5;129;01mor\u001b[39;00m \u001b[38;5;28;01mNone\u001b[39;00m, highlightAtoms\u001b[38;5;241m=\u001b[39mhighlightAtomLists \u001b[38;5;129;01mor\u001b[39;00m [],\n\u001b[0;32m    800\u001b[0m                   highlightBonds\u001b[38;5;241m=\u001b[39mhighlightBondLists \u001b[38;5;129;01mor\u001b[39;00m [], \u001b[38;5;241m*\u001b[39m\u001b[38;5;241m*\u001b[39mkwargs)\n\u001b[0;32m    801\u001b[0m d2d\u001b[38;5;241m.\u001b[39mFinishDrawing()\n\u001b[0;32m    802\u001b[0m res \u001b[38;5;241m=\u001b[39m d2d\u001b[38;5;241m.\u001b[39mGetDrawingText()\n",
      "\u001b[1;31mTypeError\u001b[0m: No registered converter was able to produce a C++ rvalue of type class std::basic_string<char,struct std::char_traits<char>,class std::allocator<char> > from this Python object of type tuple"
     ]
    }
   ],
   "source": [
    "#\n",
    "num_viz = 5\n",
    "smiles = [qm9_dataset[i].smiles for i in range(num_viz)]\n",
    "mols = [Chem.MolFromSmiles(smile) for smile in smiles]\n",
    "dipoles = [qm9_dataset.y for i in range(num_viz)]\n",
    "legend = [(smile, dipole) for smile, dipole in zip(smiles, dipoles)]\n",
    "Draw.MolsToGridImage(mols, molsPerRow=5, useSVG=True,legends=legend)"
   ]
  },
  {
   "cell_type": "code",
   "execution_count": null,
   "metadata": {},
   "outputs": [],
   "source": [
    "# Let's create  the train val test splits. We'll use 2000 samples for this demo and split them into 80% train, 10% val and 10% test.\n",
    "\n",
    "num_samples = 2000\n",
    "train_ratio = 0.8\n",
    "val_ratio = 0.1\n",
    "test_ratio = 0.1\n",
    "\n"
   ]
  }
 ],
 "metadata": {
  "kernelspec": {
   "display_name": "BO_chem",
   "language": "python",
   "name": "python3"
  },
  "language_info": {
   "codemirror_mode": {
    "name": "ipython",
    "version": 3
   },
   "file_extension": ".py",
   "mimetype": "text/x-python",
   "name": "python",
   "nbconvert_exporter": "python",
   "pygments_lexer": "ipython3",
   "version": "3.10.14"
  }
 },
 "nbformat": 4,
 "nbformat_minor": 2
}
